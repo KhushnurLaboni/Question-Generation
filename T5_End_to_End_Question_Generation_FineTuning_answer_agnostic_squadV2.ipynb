{
  "cells": [
    {
      "cell_type": "markdown",
      "metadata": {
        "id": "view-in-github",
        "colab_type": "text"
      },
      "source": [
        "<a href=\"https://colab.research.google.com/github/KhushnurLaboni/Question-Generation/blob/main/T5_End_to_End_Question_Generation_FineTuning_answer_agnostic_squadV2.ipynb\" target=\"_parent\"><img src=\"https://colab.research.google.com/assets/colab-badge.svg\" alt=\"Open In Colab\"/></a>"
      ]
    },
    {
      "cell_type": "markdown",
      "metadata": {
        "id": "YF1u2pxsFvQl"
      },
      "source": [
        "# Fine-tuning the t5 model on a end-to-end question generation (answer agnostic) using squad_v2_data\n",
        "\n",
        "### Example\n",
        "The process:\n",
        "- You provide the context (the text you want to generate questions from).\n",
        "- The model generates multiple questions simultaneously.\n",
        "\n",
        "`Context: \n",
        "\"Python is an interpreted, high-level, general-purpose programming language. Created by Guido van Rossum and first released in 1991, Python's design philosophy emphasizes code readability with its notable use of significant whitespace.\"`\n",
        "\n",
        "`Questions:`\n",
        "\n",
        "- `Who created Python?`,\n",
        "- `When was Python first released?`\n",
        "- `What is Python's design philosophy?`\n",
        "\n",
        "### Sources\n",
        "- [Transformer-based End-to-End Question Generation's Paper](https://arxiv.org/pdf/2005.01107v1.pdf)\n",
        "- [Patil Suraj's work on question generation](https://github.com/patil-suraj/question_generation/tree/bffa0a51e3ecba3922cafd13f424521135677303)"
      ]
    },
    {
      "cell_type": "markdown",
      "metadata": {
        "id": "_7Yy6SXDcpNt"
      },
      "source": [
        "\n",
        "# Download and install the packages"
      ]
    },
    {
      "cell_type": "code",
      "execution_count": null,
      "metadata": {
        "id": "Ud-QcYd2cmhX"
      },
      "outputs": [],
      "source": [
        "!pip install transformers\n",
        "!pip install datasets\n",
        "!pip install sentencepiece\n",
        "\n",
        "!pip install tqdm\n",
        "\n",
        "!pip install wandb\n",
        "\n",
        "!sudo apt-get install git-lfs"
      ]
    },
    {
      "cell_type": "code",
      "execution_count": 29,
      "metadata": {
        "id": "otv5EWHoSJfB"
      },
      "outputs": [],
      "source": [
        "import torch\n",
        "\n",
        "from datasets import load_dataset, load_metric, list_metrics\n",
        "from transformers import AutoModelForSeq2SeqLM, AutoTokenizer, DataCollator, T5ForConditionalGeneration, T5TokenizerFast\n",
        "\n",
        "from tqdm import tqdm\n",
        "\n",
        "from typing import Dict, List, Optional\n",
        "\n",
        "import dataclasses\n",
        "from dataclasses import dataclass, field\n",
        "\n",
        "import logging\n",
        "import os\n",
        "import sys\n",
        "\n",
        "import numpy as np\n",
        "import torch\n",
        "\n",
        "from huggingface_hub import notebook_login\n",
        "\n",
        "from transformers import (\n",
        "    T5ForConditionalGeneration, \n",
        "    T5Tokenizer, \n",
        "    EvalPrediction,\n",
        "    DataCollator,\n",
        "    Trainer,\n",
        "    TrainingArguments)\n",
        "\n",
        "from google.colab import files"
      ]
    },
    {
      "cell_type": "markdown",
      "metadata": {
        "id": "uuVGcquBeNV5"
      },
      "source": [
        "- Connect to Weight and Biases:"
      ]
    },
    {
      "cell_type": "code",
      "execution_count": 30,
      "metadata": {
        "colab": {
          "base_uri": "https://localhost:8080/"
        },
        "id": "KgrZX2WCH8Y7",
        "outputId": "08bf5733-69ac-4de7-ae53-c607144b43e9"
      },
      "outputs": [
        {
          "output_type": "stream",
          "name": "stdout",
          "text": [
            "env: WANDB_PROJECT=t5-small-end-to-end-questions-generation\n"
          ]
        }
      ],
      "source": [
        "import wandb\n",
        "wandb.login()\n",
        "\n",
        "%env WANDB_PROJECT=t5-small-end-to-end-questions-generation"
      ]
    },
    {
      "cell_type": "markdown",
      "metadata": {
        "id": "2dxbK04V_2Kx"
      },
      "source": [
        "## Connect to Hugging Face\n",
        "- To be able to share the model in the Hub, **store the authentification token from the Hugging Face website**.\n"
      ]
    },
    {
      "cell_type": "code",
      "execution_count": 31,
      "metadata": {
        "colab": {
          "base_uri": "https://localhost:8080/",
          "height": 359,
          "referenced_widgets": [
            "42da4b6c2fb34ecca8046daf0426384d",
            "4d36f8baeff74246ae45cdec5ad87b20",
            "0280e6401b334b1c84f20b98b71e7887",
            "6300a7b40642467f829832ea4b6692f4",
            "9b515c59109c4daba7e916285489643d",
            "9b394ef0957e442f9a161382a9c7e8ac",
            "04f7aa07b5f145ca985b737a0bddee96",
            "73584163ed5944218f92d4be32275ea4",
            "68fcb2f0d26c4909b4a8d42b92fe6567",
            "49c0c421edc44a599df7c71921b568f3",
            "045df23c84ea4947b58ddb6fe587f55c",
            "11fd6992f446402b8cf106e2e5e17505",
            "b26c8780203e43639b21c36d3eeae175",
            "31514384aa4942f39d745bd233e41653",
            "aab901e2a2eb48a682237cb8675ed7c7",
            "8dd6a3158ce4494382615c8efe068dc4",
            "27391bbca5b3482aa5e5974805f81b07"
          ]
        },
        "id": "ePD0q4Uv_znZ",
        "outputId": "991ea7db-18a4-4d94-a463-a0eb77044555"
      },
      "outputs": [
        {
          "output_type": "stream",
          "name": "stdout",
          "text": [
            "Token is valid.\n",
            "Your token has been saved in your configured git credential helpers (store).\n",
            "Your token has been saved to /root/.cache/huggingface/token\n",
            "Login successful\n"
          ]
        }
      ],
      "source": [
        "notebook_login()"
      ]
    },
    {
      "cell_type": "markdown",
      "metadata": {
        "id": "tGniyvBxCaI7"
      },
      "source": [
        "- Then install Git-lfs and add your mail and username to the config"
      ]
    },
    {
      "cell_type": "code",
      "execution_count": 32,
      "metadata": {
        "id": "i56-0Q4pCg8w"
      },
      "outputs": [],
      "source": [
        "!git config --global user.email \"khushnur.uiu006@gmail.com\"\n",
        "!git config --global user.name \"Khushnur\""
      ]
    },
    {
      "cell_type": "markdown",
      "metadata": {
        "id": "rXDcNMxMchNt"
      },
      "source": [
        "## Loading the dataset 📚\n",
        "- [SQuAD v2.0],modified version where questions for a context are concatenated.\n"
      ]
    },
    {
      "cell_type": "code",
      "execution_count": 28,
      "metadata": {
        "colab": {
          "base_uri": "https://localhost:8080/",
          "height": 509
        },
        "id": "1DpfEp5upDku",
        "outputId": "033f155f-ddb9-43d4-eecc-c5707d03f589"
      },
      "outputs": [
        {
          "output_type": "display_data",
          "data": {
            "text/plain": [
              "<IPython.core.display.HTML object>"
            ],
            "text/html": [
              "\n",
              "     <input type=\"file\" id=\"files-d6c99bdb-9245-4e53-88ce-eb9e02a75dbb\" name=\"files[]\" multiple disabled\n",
              "        style=\"border:none\" />\n",
              "     <output id=\"result-d6c99bdb-9245-4e53-88ce-eb9e02a75dbb\">\n",
              "      Upload widget is only available when the cell has been executed in the\n",
              "      current browser session. Please rerun this cell to enable.\n",
              "      </output>\n",
              "      <script>// Copyright 2017 Google LLC\n",
              "//\n",
              "// Licensed under the Apache License, Version 2.0 (the \"License\");\n",
              "// you may not use this file except in compliance with the License.\n",
              "// You may obtain a copy of the License at\n",
              "//\n",
              "//      http://www.apache.org/licenses/LICENSE-2.0\n",
              "//\n",
              "// Unless required by applicable law or agreed to in writing, software\n",
              "// distributed under the License is distributed on an \"AS IS\" BASIS,\n",
              "// WITHOUT WARRANTIES OR CONDITIONS OF ANY KIND, either express or implied.\n",
              "// See the License for the specific language governing permissions and\n",
              "// limitations under the License.\n",
              "\n",
              "/**\n",
              " * @fileoverview Helpers for google.colab Python module.\n",
              " */\n",
              "(function(scope) {\n",
              "function span(text, styleAttributes = {}) {\n",
              "  const element = document.createElement('span');\n",
              "  element.textContent = text;\n",
              "  for (const key of Object.keys(styleAttributes)) {\n",
              "    element.style[key] = styleAttributes[key];\n",
              "  }\n",
              "  return element;\n",
              "}\n",
              "\n",
              "// Max number of bytes which will be uploaded at a time.\n",
              "const MAX_PAYLOAD_SIZE = 100 * 1024;\n",
              "\n",
              "function _uploadFiles(inputId, outputId) {\n",
              "  const steps = uploadFilesStep(inputId, outputId);\n",
              "  const outputElement = document.getElementById(outputId);\n",
              "  // Cache steps on the outputElement to make it available for the next call\n",
              "  // to uploadFilesContinue from Python.\n",
              "  outputElement.steps = steps;\n",
              "\n",
              "  return _uploadFilesContinue(outputId);\n",
              "}\n",
              "\n",
              "// This is roughly an async generator (not supported in the browser yet),\n",
              "// where there are multiple asynchronous steps and the Python side is going\n",
              "// to poll for completion of each step.\n",
              "// This uses a Promise to block the python side on completion of each step,\n",
              "// then passes the result of the previous step as the input to the next step.\n",
              "function _uploadFilesContinue(outputId) {\n",
              "  const outputElement = document.getElementById(outputId);\n",
              "  const steps = outputElement.steps;\n",
              "\n",
              "  const next = steps.next(outputElement.lastPromiseValue);\n",
              "  return Promise.resolve(next.value.promise).then((value) => {\n",
              "    // Cache the last promise value to make it available to the next\n",
              "    // step of the generator.\n",
              "    outputElement.lastPromiseValue = value;\n",
              "    return next.value.response;\n",
              "  });\n",
              "}\n",
              "\n",
              "/**\n",
              " * Generator function which is called between each async step of the upload\n",
              " * process.\n",
              " * @param {string} inputId Element ID of the input file picker element.\n",
              " * @param {string} outputId Element ID of the output display.\n",
              " * @return {!Iterable<!Object>} Iterable of next steps.\n",
              " */\n",
              "function* uploadFilesStep(inputId, outputId) {\n",
              "  const inputElement = document.getElementById(inputId);\n",
              "  inputElement.disabled = false;\n",
              "\n",
              "  const outputElement = document.getElementById(outputId);\n",
              "  outputElement.innerHTML = '';\n",
              "\n",
              "  const pickedPromise = new Promise((resolve) => {\n",
              "    inputElement.addEventListener('change', (e) => {\n",
              "      resolve(e.target.files);\n",
              "    });\n",
              "  });\n",
              "\n",
              "  const cancel = document.createElement('button');\n",
              "  inputElement.parentElement.appendChild(cancel);\n",
              "  cancel.textContent = 'Cancel upload';\n",
              "  const cancelPromise = new Promise((resolve) => {\n",
              "    cancel.onclick = () => {\n",
              "      resolve(null);\n",
              "    };\n",
              "  });\n",
              "\n",
              "  // Wait for the user to pick the files.\n",
              "  const files = yield {\n",
              "    promise: Promise.race([pickedPromise, cancelPromise]),\n",
              "    response: {\n",
              "      action: 'starting',\n",
              "    }\n",
              "  };\n",
              "\n",
              "  cancel.remove();\n",
              "\n",
              "  // Disable the input element since further picks are not allowed.\n",
              "  inputElement.disabled = true;\n",
              "\n",
              "  if (!files) {\n",
              "    return {\n",
              "      response: {\n",
              "        action: 'complete',\n",
              "      }\n",
              "    };\n",
              "  }\n",
              "\n",
              "  for (const file of files) {\n",
              "    const li = document.createElement('li');\n",
              "    li.append(span(file.name, {fontWeight: 'bold'}));\n",
              "    li.append(span(\n",
              "        `(${file.type || 'n/a'}) - ${file.size} bytes, ` +\n",
              "        `last modified: ${\n",
              "            file.lastModifiedDate ? file.lastModifiedDate.toLocaleDateString() :\n",
              "                                    'n/a'} - `));\n",
              "    const percent = span('0% done');\n",
              "    li.appendChild(percent);\n",
              "\n",
              "    outputElement.appendChild(li);\n",
              "\n",
              "    const fileDataPromise = new Promise((resolve) => {\n",
              "      const reader = new FileReader();\n",
              "      reader.onload = (e) => {\n",
              "        resolve(e.target.result);\n",
              "      };\n",
              "      reader.readAsArrayBuffer(file);\n",
              "    });\n",
              "    // Wait for the data to be ready.\n",
              "    let fileData = yield {\n",
              "      promise: fileDataPromise,\n",
              "      response: {\n",
              "        action: 'continue',\n",
              "      }\n",
              "    };\n",
              "\n",
              "    // Use a chunked sending to avoid message size limits. See b/62115660.\n",
              "    let position = 0;\n",
              "    do {\n",
              "      const length = Math.min(fileData.byteLength - position, MAX_PAYLOAD_SIZE);\n",
              "      const chunk = new Uint8Array(fileData, position, length);\n",
              "      position += length;\n",
              "\n",
              "      const base64 = btoa(String.fromCharCode.apply(null, chunk));\n",
              "      yield {\n",
              "        response: {\n",
              "          action: 'append',\n",
              "          file: file.name,\n",
              "          data: base64,\n",
              "        },\n",
              "      };\n",
              "\n",
              "      let percentDone = fileData.byteLength === 0 ?\n",
              "          100 :\n",
              "          Math.round((position / fileData.byteLength) * 100);\n",
              "      percent.textContent = `${percentDone}% done`;\n",
              "\n",
              "    } while (position < fileData.byteLength);\n",
              "  }\n",
              "\n",
              "  // All done.\n",
              "  yield {\n",
              "    response: {\n",
              "      action: 'complete',\n",
              "    }\n",
              "  };\n",
              "}\n",
              "\n",
              "scope.google = scope.google || {};\n",
              "scope.google.colab = scope.google.colab || {};\n",
              "scope.google.colab._files = {\n",
              "  _uploadFiles,\n",
              "  _uploadFilesContinue,\n",
              "};\n",
              "})(self);\n",
              "</script> "
            ]
          },
          "metadata": {}
        },
        {
          "output_type": "stream",
          "name": "stdout",
          "text": [
            "Saving squad_V2_modified_for_t5_qg.zip to squad_V2_modified_for_t5_qg.zip\n"
          ]
        },
        {
          "output_type": "execute_result",
          "data": {
            "text/plain": [
              "{'squad_V2_modified_for_t5_qg.zip': b'PK\\x03\\x04\\x14\\x00\\x00\\x00\\x08\\x00TapVqcx\\x93\\xa8\\x06\\x00\\x00\\x9f\\x10\\x00\\x00\\x1e\\x00\\x00\\x00squad_V2_modified_for_t5_qg.py\\x95Wmo\\xdb6\\x10\\xfe\\xae_\\xc1)\\x18b\\xb7\\x8eb\\x17h6\\x1800\\'i\\x0bo\\x9d\\x9b\\xc6i\\xf7\\x92\\x05\\x02#Q2\\x13\\x99TI\\xca\\x8eg\\xf8\\xbf\\xef\\x8e\\x92()M\\xb6\\x95@\\x10\\x93\\xbc;>\\xf7\\xf6\\x90: G/\\x8eH$c.\\xd21)Lr\\xf4#\\xaex\\xbe\\xef\\xeb/\\x05\\x8d\\xc3\\x15l%\\x9c\\xc5a\"Uh^\\x87_\\xd2Q\\xc0\\xf3\\xad\\xb8\\xf5\\xbcia\\xe4\\x8a\\x1a\\x1e\\xd1,\\xdb\\x92\\x94\\t\\xa6\\xa8a1\\xb9\\xdd\\x923\\x99\\xd1[\\tS\\xa9\\xb6\\x81\\xe7}P<\\xe5\\x82f$\\xe1\\x19#\\\\\\x93LFV\\x94\\x1a\\x8f\\xc0X\\x1a\\x93\\xeb\\xf1\\xf1q\\x84j\\x81b\\x9aQ\\x15-\\x83T\\xca4cA$W\\xc7\\xb1\\xe2kv<:\\xcd>m\\xe7o\\x7f\\x1c\\xfd}\\x7fJ\\xff\\xb8\\xfb\\xfbdqA\\xdfN\\xa3\\xb3\\x87??\\x9e\\xfc\\xb2H?\\xff\\x80\\xb8=\\xef\\xe0\\xbb\\x9c\\xe7\\x84\\x0bm\\x00\\x19\\x89\\xa9\\xa1\\x9a\\x19\\xed\\xe1\\xe6\\xe2\\xe3\\xa7\\xe9\\xf9\\x98\\\\-\\x19Y\\x18*\\xc0\\xa9\\x98|,\\x986\\\\\\n2\\x15z\\xc3\\x14D\\x82\\x9c\\x97:\\x01\\x9a\\x83\\xbf_\\xab \\x905S\\x1a%A\\x0f|\\x11\\x8c\\x98B\\xa0\\xfc\\xd5k\\x02\\xab\\xce\\xd0\\xbb2\\x16\\xf8\\xd3\\x02\\xe2\\xab\\\\*C\\xee\\xb4\\x14n\\xe2`\\x1d$J\\xae\\xdc4\\x80\\x7f\\xf7\\x9aTB\\xb5E\\x87\\xec\\xcd\\x83Q42\\x10\\x0c\\xcf\\xcbd\\x9a2E&\\x8d.\\xae\\x80P\\x902\\x13\\x96\\xbb\\xbd0\\x14t\\xc5\\xc2\\xb0\\x0fa!\\x06\\xdc\\x8e\\xb8)\\x91A\\x1a\\x844\\xd6\\x15\\x9bj\\xf2\\xaa6\\x14\\x90\\x999\\xd4\\xad\\x9dQ\\xb33g,\\xd6\\xc4HR\\xe4\\xb0\\x06\\x01X\\x82\\x9d\\x9c*\\xe3\\x85g\\xb3\\xab\\xe9\\xd5\\xec\\xc3\\x1c\\x10\\x81\\xd7\\x7fy?\\xc1*\\x8f2\\xb6{5\\x1c\\x9dP\\xf5;_\\x8fN\\x86\\'\\xc3\\xd7\\xaf^\\x0f/\\x076\\xef0ha\\x96\\x12\\x9d\\xd8\\xed.\\xe9]^\\xa8{\\xaa\\xf6\\x03r\\xa1\\xa8\\xa0kBELv\\x7f.\\xa9Ha\\xedgNE\\xb9\\xf2^\\xe6[\\xc5\\xd6{g\\xa5\\x19\\xbfHL\\xbb0\\xbc\\x16\\xe5\\xa5\\xf2\\x05S\\xd1\\xb6\\xa5`\\xb8\\x81R\\x04\\xa4\\xbb\\xc5\\xc7\\x02Kb4\\x1c\\x0e\\x86\\xc3\\xe1K\\x17\\xf32\\x00\\xbf\\xd2h\\x89\\x89>\\x93\\xab\\\\\\xb1%\\x136\\xff2!W\\xec\\xc1\\xec\\xfd\\xda\\xe0\\x9d,\\x14\\x168\\xf8a=%\\xec(\\x87|\\x19\\xdd\\xc6\\xb8\\x85\\xb2\\x06\\t\\x0cG\\x1b9\\xe3\\xb1\\xd3\\x1bc\\x88\\x02\\x1b\\xa3\\x96fNS\\xa6\\x9f\\x91\\xc1N\\x81r\\xb8P,\\xe1\\x0fN\\xa6Qf\\x16\\x07nt\\xd4\\xf6e\\xab\\x84\\xe7o\\x16g\\x97\\xb3\\x8bv\\xde\\xfeGc\\x90\\x9e\\x8dZ\\x1f\\x8b\\x88\\x12\\xc5(\\xf2\\x07\\xd0H;F\\x7fyU\\xd1\\x0c`\\x03\\x96\\xc0\\x14\\xc8@\\xe4\\xbe\\xb8\\x00\\xe7R\\x97|\\x11)\\xb9\\x897R\\xddC\\x7fa\\'Q\\x82\\x87\\x80\\xeco\\xfc\\x9e\\xe7,\\xe6\\x14\\xccU\\xe5\\xa4\\x07d\\xb3d\\x8a\\xd9j\\xa6\\x16\\x19\\xd6#\\x83\\xde\\xdc:\\xdb%0\\xcd\\xd2\\x15\\x13\\xd6\\x90\\x81t\\r\\x08VtN\\xc5\\x00\\xac\\xd9\\xae\\xb3\\r!\\x150N.\\x85\\xf5\\xa1\\xf6%\\xa7ZC\\xd4\\xad\\nJ9\\xc3+\\x9e.\\r\\xb9e\\xa4\\x10\\xe5\\xe1\\xf4\\x168\\xcaF\\xf3\\xe0\\xc0\\x12K\\x84\\xf5\\n\\xf9Z\\xd1\\x98\\x11\\x8b\\xb4\\xe9\\xa4\\xb5k2/\\xfct\\xf9\\x1eC^\\x93\\x9f\\xaa\\xcb?H\\xb9Y\\x16\\xb7\\x01\\x97\\xc76\\xcaG\\xec!\\xcf\\xa4b\\xea\\xb8R=\\xf6\\xad\\xf2\\x02\\x93j\\xd3\\xec\\x03)p\\xe1\\x8f\\x89\\xb5\\xf9\\xb2\\x9a\\x1f\\xad_\\x05\\xc3\\x00I\\xa7*S?f\\xeb\\x96\\x10\\xcc:\"{\\xcf\\xf3\\xa2\\x0c\\xfc&\\x0b\\xc4z&E\\xc2\\xd3\\x9e#\\x97\\xd3\\x82g1S\\xe5r\\x7f\\\\Z\\xf4\\xfd\\xce\\xb2\\xf5\\xd4r\\xac\\xa5N+\\x13\\xb3\\x84\\x84!\\x17\\xdc\\x84aO\\xb3,\\x19\\x90\\x17/\\xee7T\\xa5\\xba\\xb2\\xf2\\x1f\\x96\\x9c\\xcc\\x14T\\x1a\\r\\xe2\\xcc\\x8c\\xc9=\\xdbn\\xb0baV`\\xc6m\\xef\\xc2^\\x0c\\xe5\\x05\\xb5\\xa1\\x8b\\x9c\\xa9\\xa0}\\x96\\xfbm\\xb7z-\\x87\\x07\\x041\\xf6\\x03\\x07\\xd9\\x81\\xed\\x86\\xa7\\tL\\xc5\\xf6R\\x9d\\xc2<\\xae\\xbch\\x02\\xf4\\x8dW\\x0e\\xf9\\\\\\xdd1\\xa3`\\xd4\\x04\\xf1\\xf4\\xd3\\xec\\xfd\\xf9\\x9b\\xcb\\xf0\\xec\\xc3\\xfc\\xed\\xec\\x1df\\xfe\\xda\\xb9\\xd0\\xceV\\x87\\x10\\x91\\xf9\\'~\\x9eA-\\x84X\\xff~\\x97/\\xab\\xcbl\\xe2\\x1c\\xa9N\\xee\\xf9#(\\x8a\\xa1?\\x00\\xf4\\xfd\\xaeJ\\xcct\\xa4x\\x8e\\xd0\\'\\xfe\\x05\\x1a&\\x8f\\x0cW\\n7\\xad\\xdcs\\xf0\\xd9&\\xbe\\x95n\\xc5\\x0c\\x10fssU\\xde\\xcfP\\xf4\\xd9\\x13\\xdbd\\xd5\\xc5\\x950\\n\\xf6\\x98n|y[\\xadt\\xad\\xe1\\xd8}}i\\xc0\\xf0\\x81\\xa3\\xac+\\xe3\\x06\\xd4g\\x9a\\x15\\xac\\xe7k\\x83\\tz\\x1c\\n\\xa7\\xe8\\xe8\\xec\\xdfTA\\xf0+\\xed}g\\xe5\\x91\\xf9\\x032\\x97\\x18>Zd\\xa6,\\xd25\\x87\\xea\\n\\xa1\\xd25\\xe9QM6\\xc0-t\\xcd\\xb0\\xbc\\x91\\xab\\xc8\\xad4K\\xc7R\\x8fL\\xe1MX\\xf9G@\\x95\\x8b\\xbc0\\xfd\\xa0#\\xf4\\xe8\\x88\\xc9\\\\\\n\\xd6E\\xb4\\x94+\\x86\\x17\\xd1\\xe4[\\x18\\xebQ\\xc9\\xd5\\x8f\\x8f\\x89{,t\\xf7\\xf1\\xf1\\x03\\xa5\\xba\\x82\\x9a5\\x90\\xcd\\xeb\\xafb\\xd6Y\\xb8i\\x95]\\xab\\xdet\\x9eA\\xe3\\xa6uW\\xea\\x8at\\xe2,\\\\\\xc1\\xa3\"u\\xbdi\\x15\\xe4Fd\\x12\\x88\\x1a\\x1e\\xb8\\xf06\\xc5K\\xb6\\x91\\x0b\\xea\\xdd\\x10\\x02\\x18\\xb2\\xf2\\xe9\\xd5\\xb3\\xd4[\\x9d\\x87\\xa3*\\xe5.VW\\x08\\x0b\\x04\\xe3\\x18\\xa2g[\\xb2\\xbb\\x19\\\\]Ng\\xf3\\x01>\\xa0\\xc3\\x92i&;\\x1f\\xc1\\xe4\\xd4,\\xb1\\xa6\\x1eA\\xbc\\xae\\xd8\\xfef\\xff\\xb89\\xbf\\xe1\\xcc\\xcf\\xd3\\xf7\\xb3\\xf32\\x01\\xdfp0\\xde\\x1f\\x9dc\\xdbm^\\x7f\\x00@\\xa0($\\x90\\xd5q\\xaf-v\\xc9\\xfe\\n\\xdf\\x8dI!\"K\\x83e\\x0c\\xb5\\xbdiku\\x82\\xe4\\x02sE7\\xa4\\x87\\xa5\\xdbGR_\\x05m\\xf6>(_\\xb9\\x81\\xa5\\x18\\xbfB\\x80l\\xea\\x8c\\xd8k~B\\xbe\\xd7~\\x0bI\\xa3?\\xabnk{\\x92\\xe9`z\\xf2\\xd2\\xae\\x15\\xa1G\\xc0\\xea\\xd0\\xcd7\\xd0\\x00D\\xe6L\\xf4\\xeaC\\x06\\x84\\x89\\xf2\\xbbj\\xe2\\xdb\\xef*\\xbf\\x8f\\xbd\\x97\\x8c;9+\\x0f\\x98\\xd8O\\x83\\x00\\x83\\xddK\\xfa\\x1d\\x01DQ=|0 V\\x1e\\x12\\x01p\\xfc\\x9b\\xae\\xa9Z\\x1a\\x1e\\xe34U4_\\xa2|\\xa5z\\xed\\xbbU\\xfd\\x94\\x1e\\x0e\\rO\\xd8\\x88\\xd9\\x8b\\x02\\x00%u4\\x9b\\xa7\\x0f\\xdc\\xb3;g\\xe6\\xfa\\xb0\"\\x94\\xc3\\x9b\\x00Y.\\xef\\xf5\\xf7\\xfe\\x93v\\x9b\\xe7\\x1e\\\\Z7O\\x8a \\xec/\\x96\\x98H\\xeb\\x00X9|\\x06+\\x0e\\xf7\"\\x9b\\xa0.\\x88W\\xf3\\x06\\xd0\\xb3\\xaa<)U\\xb8\\x0e\\xf1CKk\\x0eo\\xb8\\x7f;\\x0b\\x87;\\xef\\xe5\\x84\\x1c\\x92\\xeb\\xf9\\x072\\x9d/~{sys\\xf8\\x9f\\x10u@s\\xa8\\x8d\\xb8W/<\\r\\xcd@\\x0f\\xc2\\x97[\\x95\\x01\\x9f\\xec4\\xcbC#\\xef\\x99\\xd8\\x13?\\xb8\\x93\\\\8\\x03\\xfa\\xffXH\\xfc]ka\\x0f\\x9fX\\x8d\\xc1g\\x92\\xb5\\xe5,\\x8b\\xb1\\xba\\x07\\xcf\\xdc\\x93\\xe5h\\xdd\\x96\\xad\\xb2y\\xfa\\x82\\xac4\\xda\\xd7d\\x1b\\xd5\\x93:\\xd8^\\x10\\xe6\\xd1?PK\\x01\\x02\\x14\\x00\\x14\\x00\\x00\\x00\\x08\\x00TapVqcx\\x93\\xa8\\x06\\x00\\x00\\x9f\\x10\\x00\\x00\\x1e\\x00\\x00\\x00\\x00\\x00\\x00\\x00\\x01\\x00 \\x00\\x00\\x00\\x00\\x00\\x00\\x00squad_V2_modified_for_t5_qg.pyPK\\x05\\x06\\x00\\x00\\x00\\x00\\x01\\x00\\x01\\x00L\\x00\\x00\\x00\\xe4\\x06\\x00\\x00\\x00\\x00'}"
            ]
          },
          "metadata": {},
          "execution_count": 28
        }
      ],
      "source": [
        "files.upload()"
      ]
    },
    {
      "cell_type": "code",
      "execution_count": 33,
      "metadata": {
        "colab": {
          "base_uri": "https://localhost:8080/",
          "height": 86,
          "referenced_widgets": [
            "fceee50a51d2440bbe67fc02b067770d",
            "b647b70680c64911987db72a394e2916",
            "fa37bf462238413aa9332a72ef85dd6d",
            "aae114a54fb9403d85905915f83cd5a9",
            "72bfeed9d6ad4ac3a2dcd5d0f51d9534",
            "f51356c88da14b5e98260458da15e988",
            "6f2ffbd651174a4ba19fa1053f0dca30",
            "5b8e529db2874b8e99e1c9fda35d1524",
            "4f1f302a42fb493fa0d5abdf6377da6b",
            "f5dfd6051df94b7b9e03df5591440928",
            "2dcb73b0154747aca74748933b02b389"
          ]
        },
        "id": "r8sspv14owy9",
        "outputId": "fbc15895-1eac-48e0-c23e-3a0749b3391d"
      },
      "outputs": [
        {
          "output_type": "stream",
          "name": "stderr",
          "text": [
            "WARNING:datasets.builder:Found cached dataset squad_v2_modified_for_t5_qg (/root/.cache/huggingface/datasets/squad_v2_modified_for_t5_qg/plain_text/1.0.0/7f753429e250831be7535724b6f49613048052d57de7d9e06fcda1f40c7749b8)\n"
          ]
        },
        {
          "output_type": "display_data",
          "data": {
            "text/plain": [
              "  0%|          | 0/2 [00:00<?, ?it/s]"
            ],
            "application/vnd.jupyter.widget-view+json": {
              "version_major": 2,
              "version_minor": 0,
              "model_id": "fceee50a51d2440bbe67fc02b067770d"
            }
          },
          "metadata": {}
        }
      ],
      "source": [
        "raw_dataset = load_dataset(\"squad_V2_modified_for_t5_qg.py\")"
      ]
    },
    {
      "cell_type": "markdown",
      "metadata": {
        "id": "OEQtP0b7a9kg"
      },
      "source": [
        "- Let see one example of the dataset:"
      ]
    },
    {
      "cell_type": "code",
      "execution_count": 10,
      "metadata": {
        "colab": {
          "base_uri": "https://localhost:8080/"
        },
        "id": "hanZc1Qyq2xY",
        "outputId": "96e94ebd-1953-4314-bd7c-e2ddc26b082f"
      },
      "outputs": [
        {
          "output_type": "execute_result",
          "data": {
            "text/plain": [
              "{'context': 'generate questions: Beyoncé Giselle Knowles-Carter (/biːˈjɒnseɪ/ bee-YON-say) (born September 4, 1981) is an American singer, songwriter, record producer and actress. Born and raised in Houston, Texas, she performed in various singing and dancing competitions as a child, and rose to fame in the late 1990s as lead singer of R&B girl-group Destiny\\'s Child. Managed by her father, Mathew Knowles, the group became one of the world\\'s best-selling girl groups of all time. Their hiatus saw the release of Beyoncé\\'s debut album, Dangerously in Love (2003), which established her as a solo artist worldwide, earned five Grammy Awards and featured the Billboard Hot 100 number-one singles \"Crazy in Love\" and \"Baby Boy\".',\n",
              " 'questions': \"When did Beyonce start becoming popular? {sep_token} What areas did Beyonce compete in when she was growing up? {sep_token} When did Beyonce leave Destiny's Child and become a solo singer? {sep_token} In what city and state did Beyonce  grow up? {sep_token} In which decade did Beyonce become famous? {sep_token} In what R&B group was she the lead singer? {sep_token} What album made her a worldwide known artist? {sep_token} Who managed the Destiny's Child group? {sep_token} When did Beyoncé rise to fame? {sep_token} What role did Beyoncé have in Destiny's Child? {sep_token} What was the first album Beyoncé released as a solo artist? {sep_token} When did Beyoncé release Dangerously in Love? {sep_token} How many Grammy awards did Beyoncé win for her first solo album? {sep_token} What was Beyoncé's role in Destiny's Child? {sep_token} What was the name of Beyoncé's first solo album? {sep_token}\"}"
            ]
          },
          "metadata": {},
          "execution_count": 10
        }
      ],
      "source": [
        "raw_dataset[\"train\"][0]\n"
      ]
    },
    {
      "cell_type": "markdown",
      "metadata": {
        "id": "48GQ6QX6Fi0W"
      },
      "source": [
        "## Preprocessing the data 🔧\n",
        "- Load the model: `\"t5-base\"` or \"t5-small\" and the `T5TokenizerFast` tokenizer\n"
      ]
    },
    {
      "cell_type": "code",
      "execution_count": 35,
      "metadata": {
        "id": "O7PDLpTnpIXI"
      },
      "outputs": [],
      "source": [
        "checkpoint = \"t5-small\"\n",
        "model = T5ForConditionalGeneration.from_pretrained(checkpoint)\n",
        "tokenizer = T5TokenizerFast.from_pretrained(checkpoint)"
      ]
    },
    {
      "cell_type": "markdown",
      "metadata": {
        "id": "my1mvPNYqD_H"
      },
      "source": [
        "- Because we separate each of our questions with `<sep>` token, we need to add it to the tokenizer tokens."
      ]
    },
    {
      "cell_type": "code",
      "execution_count": 36,
      "metadata": {
        "id": "BA-Ma17gt1qx"
      },
      "outputs": [],
      "source": [
        "tokenizer.sep_token = '<sep>'"
      ]
    },
    {
      "cell_type": "code",
      "execution_count": 37,
      "metadata": {
        "colab": {
          "base_uri": "https://localhost:8080/"
        },
        "id": "TkbaRaWMrjXM",
        "outputId": "7668a9d4-faa7-4c91-9826-c84d9bf762ad"
      },
      "outputs": [
        {
          "output_type": "execute_result",
          "data": {
            "text/plain": [
              "Embedding(32101, 512)"
            ]
          },
          "metadata": {},
          "execution_count": 37
        }
      ],
      "source": [
        "tokenizer.add_tokens(['<sep>'])\n",
        "model.resize_token_embeddings(len(tokenizer))"
      ]
    },
    {
      "cell_type": "code",
      "execution_count": 38,
      "metadata": {
        "colab": {
          "base_uri": "https://localhost:8080/"
        },
        "id": "tJ4bp9B0plRA",
        "outputId": "d4bb8ac6-bac4-4a0a-d71d-5a805c414b22"
      },
      "outputs": [
        {
          "output_type": "execute_result",
          "data": {
            "text/plain": [
              "32100"
            ]
          },
          "metadata": {},
          "execution_count": 38
        }
      ],
      "source": [
        "# Check the sep_token_id to verify that it was added to the tokenizer\n",
        "tokenizer.sep_token_id"
      ]
    },
    {
      "cell_type": "markdown",
      "metadata": {
        "id": "egtNiZ2pqYV8"
      },
      "source": [
        "- Now, we need to preprocess the data in 3 steps:\n",
        "1. `add_eos_examples`: Add `</s>` (end of string) at the end of each context and each questions combination.\n",
        "2. `add_special_tokens`: Replace `{sep_token}` to `<sep>` token between each question.\n",
        "3. `convert_to_features`: Tokenize the examples with "
      ]
    },
    {
      "cell_type": "code",
      "execution_count": 39,
      "metadata": {
        "id": "JjFQTRQKHxqd"
      },
      "outputs": [],
      "source": [
        "max_input_length =  512\n",
        "max_target_length = 64"
      ]
    },
    {
      "cell_type": "code",
      "execution_count": 40,
      "metadata": {
        "id": "DivcDy8m3uvh"
      },
      "outputs": [],
      "source": [
        "# tokenize the examples\n",
        "def convert_to_features(example_batch):\n",
        "\n",
        "    input_encodings = tokenizer.batch_encode_plus(example_batch['context'], \n",
        "                                                  max_length=max_input_length, \n",
        "                                                  add_special_tokens=True,\n",
        "                                                  truncation=True, \n",
        "                                                  pad_to_max_length=True)\n",
        "    \n",
        "    target_encodings = tokenizer.batch_encode_plus(example_batch['questions'], \n",
        "                                                   max_length=max_target_length, \n",
        "                                                   add_special_tokens=True,\n",
        "                                                   truncation=True, pad_to_max_length=True)\n",
        "                                                   \n",
        "    encodings = {\n",
        "        'input_ids': input_encodings['input_ids'], \n",
        "        'attention_mask': input_encodings['attention_mask'],\n",
        "        'decoder_input_ids': target_encodings['input_ids']\n",
        "        ,'decoder_attention_mask': target_encodings['attention_mask']\n",
        "    }\n",
        "\n",
        "    return encodings\n",
        "\n",
        "def add_eos_examples(example):\n",
        "  example['context'] = example['context'] + \" </s>\"\n",
        "  example['questions'] = example['questions'] + \" </s>\"\n",
        "  return example\n",
        "\n",
        "\n",
        "def add_special_tokens(example):\n",
        "  example['questions'] = example['questions'].replace(\"{sep_token}\", '<sep>')\n",
        "  return example"
      ]
    },
    {
      "cell_type": "code",
      "execution_count": 41,
      "metadata": {
        "colab": {
          "base_uri": "https://localhost:8080/",
          "height": 158,
          "referenced_widgets": [
            "82b8a90975684c15a6ecd0f4f05c63ff",
            "f37abc7aac8c4c95a40cb6227c80fbe7",
            "505bbfc4e3094061a18199f8567eb4d4",
            "f187db3c12684399b0dc4286a2f8ab18",
            "616b6fe239c8435090248e6b9af3248a",
            "4bb9a06cc915421e974047ece997dd30",
            "6246af45202f40bdb7c0ce4a6cfe4ecb",
            "f3f6d06b51664869b8e62c642a37d399",
            "1d88da5a7036442ab0d2c9bd740ce4a1",
            "85a35773c15f4f32bdeaf10be8ec4451",
            "e7d9ccb097964268945654ccfc475124"
          ]
        },
        "id": "55nJpzfD42lP",
        "outputId": "15e501b3-088b-4e1e-c0bb-d8d54e8ec6e3"
      },
      "outputs": [
        {
          "output_type": "stream",
          "name": "stderr",
          "text": [
            "WARNING:datasets.arrow_dataset:Loading cached processed dataset at /root/.cache/huggingface/datasets/squad_v2_modified_for_t5_qg/plain_text/1.0.0/7f753429e250831be7535724b6f49613048052d57de7d9e06fcda1f40c7749b8/cache-357bbec011e376a0.arrow\n",
            "WARNING:datasets.arrow_dataset:Loading cached processed dataset at /root/.cache/huggingface/datasets/squad_v2_modified_for_t5_qg/plain_text/1.0.0/7f753429e250831be7535724b6f49613048052d57de7d9e06fcda1f40c7749b8/cache-e1c3c74f0611ea51.arrow\n",
            "WARNING:datasets.arrow_dataset:Loading cached processed dataset at /root/.cache/huggingface/datasets/squad_v2_modified_for_t5_qg/plain_text/1.0.0/7f753429e250831be7535724b6f49613048052d57de7d9e06fcda1f40c7749b8/cache-d891afd8ba0c53a5.arrow\n",
            "WARNING:datasets.arrow_dataset:Loading cached processed dataset at /root/.cache/huggingface/datasets/squad_v2_modified_for_t5_qg/plain_text/1.0.0/7f753429e250831be7535724b6f49613048052d57de7d9e06fcda1f40c7749b8/cache-7ed25a3aeffe535e.arrow\n",
            "WARNING:datasets.arrow_dataset:Loading cached processed dataset at /root/.cache/huggingface/datasets/squad_v2_modified_for_t5_qg/plain_text/1.0.0/7f753429e250831be7535724b6f49613048052d57de7d9e06fcda1f40c7749b8/cache-e5ac5fa25df22f0f.arrow\n"
          ]
        },
        {
          "output_type": "display_data",
          "data": {
            "text/plain": [
              "Map:   0%|          | 0/1204 [00:00<?, ? examples/s]"
            ],
            "application/vnd.jupyter.widget-view+json": {
              "version_major": 2,
              "version_minor": 0,
              "model_id": "82b8a90975684c15a6ecd0f4f05c63ff"
            }
          },
          "metadata": {}
        },
        {
          "output_type": "stream",
          "name": "stderr",
          "text": [
            "/usr/local/lib/python3.9/dist-packages/transformers/tokenization_utils_base.py:2346: FutureWarning: The `pad_to_max_length` argument is deprecated and will be removed in a future version, use `padding=True` or `padding='longest'` to pad to the longest sequence in the batch, or use `padding='max_length'` to pad to a max length. In this case, you can give a specific length with `max_length` (e.g. `max_length=45`) or leave max_length to None to pad to the maximal input size of the model (e.g. 512 for Bert).\n",
            "  warnings.warn(\n"
          ]
        }
      ],
      "source": [
        "tokenized_dataset  = raw_dataset.map(add_eos_examples)\n",
        "tokenized_dataset = tokenized_dataset.map(add_special_tokens)\n",
        "tokenized_dataset  = tokenized_dataset.map(convert_to_features,  batched=True)"
      ]
    },
    {
      "cell_type": "code",
      "execution_count": 18,
      "metadata": {
        "colab": {
          "base_uri": "https://localhost:8080/",
          "height": 122
        },
        "id": "0GUr4JnPOGhF",
        "outputId": "dca1be7f-6b52-4e3d-83f5-fb936ec3abef"
      },
      "outputs": [
        {
          "output_type": "execute_result",
          "data": {
            "text/plain": [
              "'generate questions: Beyoncé Giselle Knowles-Carter (/biːˈjɒnseɪ/ bee-YON-say) (born September 4, 1981) is an American singer, songwriter, record producer and actress. Born and raised in Houston, Texas, she performed in various singing and dancing competitions as a child, and rose to fame in the late 1990s as lead singer of R&B girl-group Destiny\\'s Child. Managed by her father, Mathew Knowles, the group became one of the world\\'s best-selling girl groups of all time. Their hiatus saw the release of Beyoncé\\'s debut album, Dangerously in Love (2003), which established her as a solo artist worldwide, earned five Grammy Awards and featured the Billboard Hot 100 number-one singles \"Crazy in Love\" and \"Baby Boy\". </s>'"
            ],
            "application/vnd.google.colaboratory.intrinsic+json": {
              "type": "string"
            }
          },
          "metadata": {},
          "execution_count": 18
        }
      ],
      "source": [
        "tokenized_dataset[\"train\"][0][\"context\"]"
      ]
    },
    {
      "cell_type": "code",
      "execution_count": 19,
      "metadata": {
        "colab": {
          "base_uri": "https://localhost:8080/",
          "height": 122
        },
        "id": "mHXwUESeW1Me",
        "outputId": "bdd27649-d9ea-43c5-ea79-d9d12a73f408"
      },
      "outputs": [
        {
          "output_type": "execute_result",
          "data": {
            "text/plain": [
              "\"When did Beyonce start becoming popular? <sep> What areas did Beyonce compete in when she was growing up? <sep> When did Beyonce leave Destiny's Child and become a solo singer? <sep> In what city and state did Beyonce  grow up? <sep> In which decade did Beyonce become famous? <sep> In what R&B group was she the lead singer? <sep> What album made her a worldwide known artist? <sep> Who managed the Destiny's Child group? <sep> When did Beyoncé rise to fame? <sep> What role did Beyoncé have in Destiny's Child? <sep> What was the first album Beyoncé released as a solo artist? <sep> When did Beyoncé release Dangerously in Love? <sep> How many Grammy awards did Beyoncé win for her first solo album? <sep> What was Beyoncé's role in Destiny's Child? <sep> What was the name of Beyoncé's first solo album? <sep> </s>\""
            ],
            "application/vnd.google.colaboratory.intrinsic+json": {
              "type": "string"
            }
          },
          "metadata": {},
          "execution_count": 19
        }
      ],
      "source": [
        "tokenized_dataset[\"train\"][0][\"questions\"]"
      ]
    },
    {
      "cell_type": "markdown",
      "metadata": {
        "id": "MhgwYt6xrb_L"
      },
      "source": [
        "- Finally, we remove the useless columns `context` and `questions` and we split the tokenized_dataset between train and validation dataset."
      ]
    },
    {
      "cell_type": "code",
      "execution_count": 42,
      "metadata": {
        "id": "iFSyHQOoKJEI"
      },
      "outputs": [],
      "source": [
        "tokenized_dataset = tokenized_dataset.remove_columns(\n",
        "    [\"context\", \"questions\"]\n",
        ")\n",
        "\n",
        "train_dataset = tokenized_dataset[\"train\"]\n",
        "valid_dataset = tokenized_dataset[\"validation\"]\n",
        "\n",
        "columns = ['input_ids', 'decoder_input_ids', 'attention_mask', 'decoder_attention_mask']\n",
        "train_dataset.set_format(type='torch', columns=columns)\n",
        "valid_dataset.set_format(type='torch', columns=columns)"
      ]
    },
    {
      "cell_type": "code",
      "execution_count": 43,
      "metadata": {
        "id": "jO7wxpjMI4El"
      },
      "outputs": [],
      "source": [
        "torch.save(train_dataset, 'train_data.pt')\n",
        "torch.save(valid_dataset, 'valid_data.pt')"
      ]
    },
    {
      "cell_type": "markdown",
      "metadata": {
        "id": "SRbnj4-idTUr"
      },
      "source": [
        "## Fine-Tuning the t5 model\n",
        "- A custom DataCollator. A DataCollator **will form a batch using a list of dataset elements as input.** "
      ]
    },
    {
      "cell_type": "code",
      "execution_count": 45,
      "metadata": {
        "id": "ex0HoScNOa7_"
      },
      "outputs": [],
      "source": [
        "# This dataclass implementation is taken from Suraj Patil: https://github.com/patil-suraj/question_generation\n",
        "@dataclass\n",
        "class T2TDataCollator():\n",
        "  def __call__(self, batch: List) -> Dict[str, torch.Tensor]:\n",
        "    \"\"\"\n",
        "    Take a list of samples from a Dataset and collate them into a batch.\n",
        "    Returns:\n",
        "    A dictionary of tensors\n",
        "    \"\"\"\n",
        "    \n",
        "    input_ids = torch.stack([example['input_ids'] for example in batch])\n",
        "    lm_labels = torch.stack([example['decoder_input_ids'] for example in batch])\n",
        "    lm_labels[lm_labels[:, :] == 0] = -100 \n",
        "    attention_mask = torch.stack([example['attention_mask'] for example in batch])\n",
        "    decoder_attention_mask = torch.stack([example['decoder_attention_mask'] for example in batch])\n",
        "    \n",
        "    return {\n",
        "        'input_ids': input_ids, \n",
        "        'attention_mask': attention_mask,\n",
        "        'labels': lm_labels, \n",
        "        'decoder_attention_mask': decoder_attention_mask\n",
        "    }"
      ]
    },
    {
      "cell_type": "code",
      "source": [
        "from transformers import TrainingArguments, Trainer, EvalPrediction\n",
        "from sklearn.metrics import f1_score, accuracy_score\n",
        "\n",
        "# Define the compute_metrics function\n",
        "def compute_metrics(p: EvalPrediction):\n",
        "    predictions = p.predictions.argmax(-1)\n",
        "    return {\n",
        "        \"F1\": f1_score(p.label_ids, predictions, average=\"weighted\"),\n",
        "        \"EM\": accuracy_score(p.label_ids, predictions)\n",
        "    }"
      ],
      "metadata": {
        "id": "u_BeEIojx_7J"
      },
      "execution_count": 46,
      "outputs": []
    },
    {
      "cell_type": "markdown",
      "metadata": {
        "id": "-y8HRL17QUhf"
      },
      "source": [
        "- We define the `TrainingArguments` object that contains every hyperparameters (learning_rate, nb of epochs...)"
      ]
    },
    {
      "cell_type": "code",
      "execution_count": 48,
      "metadata": {
        "id": "NmPgniec1R-t"
      },
      "outputs": [],
      "source": [
        "training_args = TrainingArguments(output_dir=\"./gdrive/My Drive/models\", \n",
        "                                  per_device_train_batch_size=16, \n",
        "                                  per_device_eval_batch_size=16,\n",
        "                                  gradient_accumulation_steps=64,\n",
        "                                  learning_rate=1e-4, \n",
        "                                  num_train_epochs=1,\n",
        "                                  logging_steps=100,\n",
        "                                  run_name=\"end2end-questions-generation\",\n",
        "                                  evaluation_strategy=\"steps\",\n",
        "                                  save_steps=300,\n",
        "                                  report_to=\"wandb\",\n",
        "                                  push_to_hub=True,\n",
        "                                  push_to_hub_model_id=\"t5-small-end2end-questions-generation\")"
      ]
    },
    {
      "cell_type": "code",
      "execution_count": 49,
      "metadata": {
        "colab": {
          "base_uri": "https://localhost:8080/",
          "height": 973,
          "referenced_widgets": [
            "0da6ff3d9fce4260895c5a17a36b4f4d",
            "697cfcb580514e65a0caff4079b88297",
            "9e614ea5f37d4b488d533948118175cf",
            "e2e37664f1414ada8f9b62bbbc64bab5",
            "0e8c24636a984507aba935b41057b4bc",
            "b3f49935f5cd4ca7b078844256003428",
            "16f1730cef1c4afbb8bf12ade96abf50",
            "cd3272267cc9479db96293c04f988f37",
            "0935f499c92847a58e8ad71783e788a1",
            "d735b161f816402f8adc7d29708eaa0b",
            "c12c3486befd483db9701109d5bb21c8",
            "70d297b8a31a4fe9b4377b2a76bd17e6",
            "ab7c47c3a7da40e8bf7d859126d88552",
            "4592b6b2806544bd99929c345d4eb374",
            "af3f6e3b087645049f22f856f9b522ee",
            "8bf58cb2140249aab7e486b55de278f1",
            "85bb5a9fb5974437851823ff629b5fce",
            "97e48ae9d20f40eebd80beba683ab7ef",
            "2e50d9330e904d74a4466e720356e382"
          ]
        },
        "id": "RCXKkj931Piz",
        "outputId": "bcbe9de6-4b91-414e-f4db-54a82907e144"
      },
      "outputs": [
        {
          "output_type": "stream",
          "name": "stderr",
          "text": [
            "/content/./gdrive/My Drive/models is already a clone of https://huggingface.co/Khushnur/t5-small-end2end-questions-generation. Make sure you pull the latest changes with `repo.git_pull()`.\n",
            "WARNING:huggingface_hub.repository:/content/./gdrive/My Drive/models is already a clone of https://huggingface.co/Khushnur/t5-small-end2end-questions-generation. Make sure you pull the latest changes with `repo.git_pull()`.\n",
            "/usr/local/lib/python3.9/dist-packages/transformers/optimization.py:391: FutureWarning: This implementation of AdamW is deprecated and will be removed in a future version. Use the PyTorch implementation torch.optim.AdamW instead, or set `no_deprecation_warning=True` to disable this warning\n",
            "  warnings.warn(\n"
          ]
        },
        {
          "output_type": "display_data",
          "data": {
            "text/plain": [
              "<IPython.core.display.HTML object>"
            ],
            "text/html": [
              "Changes to your `wandb` environment variables will be ignored because your `wandb` session has already started. For more information on how to modify your settings with `wandb.init()` arguments, please refer to <a href='https://wandb.me/wandb-init' target=\"_blank\">the W&B docs</a>."
            ]
          },
          "metadata": {}
        },
        {
          "output_type": "display_data",
          "data": {
            "text/plain": [
              "<IPython.core.display.HTML object>"
            ],
            "text/html": [
              "Tracking run with wandb version 0.14.0"
            ]
          },
          "metadata": {}
        },
        {
          "output_type": "display_data",
          "data": {
            "text/plain": [
              "<IPython.core.display.HTML object>"
            ],
            "text/html": [
              "Run data is saved locally in <code>/content/wandb/run-20230316_124310-9u1796dn</code>"
            ]
          },
          "metadata": {}
        },
        {
          "output_type": "display_data",
          "data": {
            "text/plain": [
              "<IPython.core.display.HTML object>"
            ],
            "text/html": [
              "Syncing run <strong><a href='https://wandb.ai/khushnu/t5-small-end-to-end-questions-generation/runs/9u1796dn' target=\"_blank\">end2end-questions-generation</a></strong> to <a href='https://wandb.ai/khushnu/t5-small-end-to-end-questions-generation' target=\"_blank\">Weights & Biases</a> (<a href='https://wandb.me/run' target=\"_blank\">docs</a>)<br/>"
            ]
          },
          "metadata": {}
        },
        {
          "output_type": "display_data",
          "data": {
            "text/plain": [
              "<IPython.core.display.HTML object>"
            ],
            "text/html": [
              " View project at <a href='https://wandb.ai/khushnu/t5-small-end-to-end-questions-generation' target=\"_blank\">https://wandb.ai/khushnu/t5-small-end-to-end-questions-generation</a>"
            ]
          },
          "metadata": {}
        },
        {
          "output_type": "display_data",
          "data": {
            "text/plain": [
              "<IPython.core.display.HTML object>"
            ],
            "text/html": [
              " View run at <a href='https://wandb.ai/khushnu/t5-small-end-to-end-questions-generation/runs/9u1796dn' target=\"_blank\">https://wandb.ai/khushnu/t5-small-end-to-end-questions-generation/runs/9u1796dn</a>"
            ]
          },
          "metadata": {}
        },
        {
          "output_type": "display_data",
          "data": {
            "text/plain": [
              "<IPython.core.display.HTML object>"
            ],
            "text/html": [
              "\n",
              "    <div>\n",
              "      \n",
              "      <progress value='18' max='18' style='width:300px; height:20px; vertical-align: middle;'></progress>\n",
              "      [18/18 09:53, Epoch 0/1]\n",
              "    </div>\n",
              "    <table border=\"1\" class=\"dataframe\">\n",
              "  <thead>\n",
              " <tr style=\"text-align: left;\">\n",
              "      <th>Step</th>\n",
              "      <th>Training Loss</th>\n",
              "      <th>Validation Loss</th>\n",
              "    </tr>\n",
              "  </thead>\n",
              "  <tbody>\n",
              "  </tbody>\n",
              "</table><p>"
            ]
          },
          "metadata": {}
        },
        {
          "output_type": "display_data",
          "data": {
            "text/plain": [
              "Upload file training_args.bin: 100%|##########| 3.62k/3.62k [00:00<?, ?B/s]"
            ],
            "application/vnd.jupyter.widget-view+json": {
              "version_major": 2,
              "version_minor": 0,
              "model_id": "0da6ff3d9fce4260895c5a17a36b4f4d"
            }
          },
          "metadata": {}
        },
        {
          "output_type": "stream",
          "name": "stderr",
          "text": [
            "remote: Scanning LFS files of refs/heads/main for validity...        \n",
            "remote: LFS file scan complete.        \n",
            "To https://huggingface.co/Khushnur/t5-small-end2end-questions-generation\n",
            "   fd154ca..21e7ecf  main -> main\n",
            "\n",
            "WARNING:huggingface_hub.repository:remote: Scanning LFS files of refs/heads/main for validity...        \n",
            "remote: LFS file scan complete.        \n",
            "To https://huggingface.co/Khushnur/t5-small-end2end-questions-generation\n",
            "   fd154ca..21e7ecf  main -> main\n",
            "\n",
            "To https://huggingface.co/Khushnur/t5-small-end2end-questions-generation\n",
            "   21e7ecf..f967bba  main -> main\n",
            "\n",
            "WARNING:huggingface_hub.repository:To https://huggingface.co/Khushnur/t5-small-end2end-questions-generation\n",
            "   21e7ecf..f967bba  main -> main\n",
            "\n"
          ]
        },
        {
          "output_type": "display_data",
          "data": {
            "text/plain": [
              "<IPython.core.display.HTML object>"
            ],
            "text/html": [
              "Waiting for W&B process to finish... <strong style=\"color:green\">(success).</strong>"
            ]
          },
          "metadata": {}
        },
        {
          "output_type": "display_data",
          "data": {
            "text/plain": [
              "VBox(children=(Label(value='0.001 MB of 0.018 MB uploaded (0.000 MB deduped)\\r'), FloatProgress(value=0.046238…"
            ],
            "application/vnd.jupyter.widget-view+json": {
              "version_major": 2,
              "version_minor": 0,
              "model_id": "70d297b8a31a4fe9b4377b2a76bd17e6"
            }
          },
          "metadata": {}
        },
        {
          "output_type": "display_data",
          "data": {
            "text/plain": [
              "<IPython.core.display.HTML object>"
            ],
            "text/html": [
              "<style>\n",
              "    table.wandb td:nth-child(1) { padding: 0 10px; text-align: left ; width: auto;} td:nth-child(2) {text-align: left ; width: 100%}\n",
              "    .wandb-row { display: flex; flex-direction: row; flex-wrap: wrap; justify-content: flex-start; width: 100% }\n",
              "    .wandb-col { display: flex; flex-direction: column; flex-basis: 100%; flex: 1; padding: 10px; }\n",
              "    </style>\n",
              "<div class=\"wandb-row\"><div class=\"wandb-col\"><h3>Run history:</h3><br/><table class=\"wandb\"><tr><td>train/epoch</td><td>▁</td></tr><tr><td>train/global_step</td><td>▁</td></tr><tr><td>train/total_flos</td><td>▁</td></tr><tr><td>train/train_loss</td><td>▁</td></tr><tr><td>train/train_runtime</td><td>▁</td></tr><tr><td>train/train_samples_per_second</td><td>▁</td></tr><tr><td>train/train_steps_per_second</td><td>▁</td></tr></table><br/></div><div class=\"wandb-col\"><h3>Run summary:</h3><br/><table class=\"wandb\"><tr><td>train/epoch</td><td>0.97</td></tr><tr><td>train/global_step</td><td>18</td></tr><tr><td>train/total_flos</td><td>2494620084731904.0</td></tr><tr><td>train/train_loss</td><td>4.85679</td></tr><tr><td>train/train_runtime</td><td>628.5558</td></tr><tr><td>train/train_samples_per_second</td><td>30.284</td></tr><tr><td>train/train_steps_per_second</td><td>0.029</td></tr></table><br/></div></div>"
            ]
          },
          "metadata": {}
        },
        {
          "output_type": "display_data",
          "data": {
            "text/plain": [
              "<IPython.core.display.HTML object>"
            ],
            "text/html": [
              " View run <strong style=\"color:#cdcd00\">end2end-questions-generation</strong> at: <a href='https://wandb.ai/khushnu/t5-small-end-to-end-questions-generation/runs/9u1796dn' target=\"_blank\">https://wandb.ai/khushnu/t5-small-end-to-end-questions-generation/runs/9u1796dn</a><br/>Synced 5 W&B file(s), 0 media file(s), 0 artifact file(s) and 0 other file(s)"
            ]
          },
          "metadata": {}
        },
        {
          "output_type": "display_data",
          "data": {
            "text/plain": [
              "<IPython.core.display.HTML object>"
            ],
            "text/html": [
              "Find logs at: <code>./wandb/run-20230316_124310-9u1796dn/logs</code>"
            ]
          },
          "metadata": {}
        }
      ],
      "source": [
        "logger = logging.getLogger(__name__)\n",
        "\n",
        "# Initialize our Trainer\n",
        "# Initialize our Trainer\n",
        "trainer = Trainer(\n",
        "    model=model,\n",
        "    args=training_args,\n",
        "    train_dataset=train_dataset,\n",
        "    eval_dataset=valid_dataset,\n",
        "    compute_metrics=compute_metrics,\n",
        "    data_collator=T2TDataCollator()\n",
        ")\n",
        "\n",
        "\n",
        "# Training\n",
        "trainer.train()\n",
        "\n",
        "# When training is done, we push the fine-tuned model to the Hub\n",
        "trainer.push_to_hub(\"t5-small-end2end-questions-generation\")\n",
        "\n",
        "wandb.finish()"
      ]
    },
    {
      "cell_type": "code",
      "source": [
        "'''\n",
        "import gc\n",
        "torch.cuda.empty_cache()\n",
        "gc.collect() '''"
      ],
      "metadata": {
        "id": "mw6ey7kFKBd1"
      },
      "execution_count": null,
      "outputs": []
    },
    {
      "cell_type": "code",
      "source": [
        "!pip install numba\n",
        "\n",
        "from numba import cuda \n",
        "device = cuda.get_current_device()\n",
        "device.reset()"
      ],
      "metadata": {
        "colab": {
          "base_uri": "https://localhost:8080/"
        },
        "id": "8xPQ_w--Vtgu",
        "outputId": "591c71dc-6f12-4430-f255-76d54b840a7d"
      },
      "execution_count": 39,
      "outputs": [
        {
          "output_type": "stream",
          "name": "stdout",
          "text": [
            "Looking in indexes: https://pypi.org/simple, https://us-python.pkg.dev/colab-wheels/public/simple/\n",
            "Requirement already satisfied: numba in /usr/local/lib/python3.9/dist-packages (0.56.4)\n",
            "Requirement already satisfied: setuptools in /usr/local/lib/python3.9/dist-packages (from numba) (63.4.3)\n",
            "Requirement already satisfied: llvmlite<0.40,>=0.39.0dev0 in /usr/local/lib/python3.9/dist-packages (from numba) (0.39.1)\n",
            "Requirement already satisfied: numpy<1.24,>=1.18 in /usr/local/lib/python3.9/dist-packages (from numba) (1.22.4)\n"
          ]
        }
      ]
    },
    {
      "cell_type": "code",
      "source": [
        "# Initialize wandb\n",
        "wandb.init(project=\"t5-small-end-to-end-questions-generation\")\n",
        "\n",
        "# Evaluate the model\n",
        "evaluation_results = trainer.evaluate(valid_dataset)\n",
        "print(evaluation_results)\n",
        "# Print F1 and EM results\n",
        "print(\"F1 Score: {:.3f}\".format(evaluation_results[\"eval_F1\"]))\n",
        "print(\"EM Score: {:.3f}\".format(evaluation_results[\"eval_EM\"]))\n",
        "\n",
        "# Log the evaluation results to wandb\n",
        "wandb.log(evaluation_results)\n",
        "\n",
        "# Finish the wandb run\n",
        "wandb.finish()"
      ],
      "metadata": {
        "id": "zptWVDJ7mnc2",
        "colab": {
          "base_uri": "https://localhost:8080/",
          "height": 556
        },
        "outputId": "bd2eae9d-917e-4c41-e85e-4c5c8cbed6ea"
      },
      "execution_count": 50,
      "outputs": [
        {
          "output_type": "display_data",
          "data": {
            "text/plain": [
              "<IPython.core.display.HTML object>"
            ],
            "text/html": [
              "Changes to your `wandb` environment variables will be ignored because your `wandb` session has already started. For more information on how to modify your settings with `wandb.init()` arguments, please refer to <a href='https://wandb.me/wandb-init' target=\"_blank\">the W&B docs</a>."
            ]
          },
          "metadata": {}
        },
        {
          "output_type": "display_data",
          "data": {
            "text/plain": [
              "<IPython.core.display.HTML object>"
            ],
            "text/html": [
              "Tracking run with wandb version 0.14.0"
            ]
          },
          "metadata": {}
        },
        {
          "output_type": "display_data",
          "data": {
            "text/plain": [
              "<IPython.core.display.HTML object>"
            ],
            "text/html": [
              "Run data is saved locally in <code>/content/wandb/run-20230316_125647-5kr61frs</code>"
            ]
          },
          "metadata": {}
        },
        {
          "output_type": "display_data",
          "data": {
            "text/plain": [
              "<IPython.core.display.HTML object>"
            ],
            "text/html": [
              "Syncing run <strong><a href='https://wandb.ai/khushnu/t5-small-end-to-end-questions-generation/runs/5kr61frs' target=\"_blank\">fallen-valley-17</a></strong> to <a href='https://wandb.ai/khushnu/t5-small-end-to-end-questions-generation' target=\"_blank\">Weights & Biases</a> (<a href='https://wandb.me/run' target=\"_blank\">docs</a>)<br/>"
            ]
          },
          "metadata": {}
        },
        {
          "output_type": "display_data",
          "data": {
            "text/plain": [
              "<IPython.core.display.HTML object>"
            ],
            "text/html": [
              " View project at <a href='https://wandb.ai/khushnu/t5-small-end-to-end-questions-generation' target=\"_blank\">https://wandb.ai/khushnu/t5-small-end-to-end-questions-generation</a>"
            ]
          },
          "metadata": {}
        },
        {
          "output_type": "display_data",
          "data": {
            "text/plain": [
              "<IPython.core.display.HTML object>"
            ],
            "text/html": [
              " View run at <a href='https://wandb.ai/khushnu/t5-small-end-to-end-questions-generation/runs/5kr61frs' target=\"_blank\">https://wandb.ai/khushnu/t5-small-end-to-end-questions-generation/runs/5kr61frs</a>"
            ]
          },
          "metadata": {}
        },
        {
          "output_type": "display_data",
          "data": {
            "text/plain": [
              "<IPython.core.display.HTML object>"
            ],
            "text/html": [
              "\n",
              "    <div>\n",
              "      \n",
              "      <progress value='43' max='76' style='width:300px; height:20px; vertical-align: middle;'></progress>\n",
              "      [43/76 00:12 < 00:09, 3.47 it/s]\n",
              "    </div>\n",
              "    "
            ]
          },
          "metadata": {}
        },
        {
          "output_type": "error",
          "ename": "OutOfMemoryError",
          "evalue": "ignored",
          "traceback": [
            "\u001b[0;31m---------------------------------------------------------------------------\u001b[0m",
            "\u001b[0;31mOutOfMemoryError\u001b[0m                          Traceback (most recent call last)",
            "\u001b[0;32m<ipython-input-50-37f3881084bc>\u001b[0m in \u001b[0;36m<module>\u001b[0;34m\u001b[0m\n\u001b[1;32m      3\u001b[0m \u001b[0;34m\u001b[0m\u001b[0m\n\u001b[1;32m      4\u001b[0m \u001b[0;31m# Evaluate the model\u001b[0m\u001b[0;34m\u001b[0m\u001b[0;34m\u001b[0m\u001b[0m\n\u001b[0;32m----> 5\u001b[0;31m \u001b[0mevaluation_results\u001b[0m \u001b[0;34m=\u001b[0m \u001b[0mtrainer\u001b[0m\u001b[0;34m.\u001b[0m\u001b[0mevaluate\u001b[0m\u001b[0;34m(\u001b[0m\u001b[0mvalid_dataset\u001b[0m\u001b[0;34m)\u001b[0m\u001b[0;34m\u001b[0m\u001b[0;34m\u001b[0m\u001b[0m\n\u001b[0m\u001b[1;32m      6\u001b[0m \u001b[0mprint\u001b[0m\u001b[0;34m(\u001b[0m\u001b[0mevaluation_results\u001b[0m\u001b[0;34m)\u001b[0m\u001b[0;34m\u001b[0m\u001b[0;34m\u001b[0m\u001b[0m\n\u001b[1;32m      7\u001b[0m \u001b[0;31m# Print F1 and EM results\u001b[0m\u001b[0;34m\u001b[0m\u001b[0;34m\u001b[0m\u001b[0m\n",
            "\u001b[0;32m/usr/local/lib/python3.9/dist-packages/transformers/trainer.py\u001b[0m in \u001b[0;36mevaluate\u001b[0;34m(self, eval_dataset, ignore_keys, metric_key_prefix)\u001b[0m\n\u001b[1;32m   2930\u001b[0m \u001b[0;34m\u001b[0m\u001b[0m\n\u001b[1;32m   2931\u001b[0m         \u001b[0meval_loop\u001b[0m \u001b[0;34m=\u001b[0m \u001b[0mself\u001b[0m\u001b[0;34m.\u001b[0m\u001b[0mprediction_loop\u001b[0m \u001b[0;32mif\u001b[0m \u001b[0mself\u001b[0m\u001b[0;34m.\u001b[0m\u001b[0margs\u001b[0m\u001b[0;34m.\u001b[0m\u001b[0muse_legacy_prediction_loop\u001b[0m \u001b[0;32melse\u001b[0m \u001b[0mself\u001b[0m\u001b[0;34m.\u001b[0m\u001b[0mevaluation_loop\u001b[0m\u001b[0;34m\u001b[0m\u001b[0;34m\u001b[0m\u001b[0m\n\u001b[0;32m-> 2932\u001b[0;31m         output = eval_loop(\n\u001b[0m\u001b[1;32m   2933\u001b[0m             \u001b[0meval_dataloader\u001b[0m\u001b[0;34m,\u001b[0m\u001b[0;34m\u001b[0m\u001b[0;34m\u001b[0m\u001b[0m\n\u001b[1;32m   2934\u001b[0m             \u001b[0mdescription\u001b[0m\u001b[0;34m=\u001b[0m\u001b[0;34m\"Evaluation\"\u001b[0m\u001b[0;34m,\u001b[0m\u001b[0;34m\u001b[0m\u001b[0;34m\u001b[0m\u001b[0m\n",
            "\u001b[0;32m/usr/local/lib/python3.9/dist-packages/transformers/trainer.py\u001b[0m in \u001b[0;36mevaluation_loop\u001b[0;34m(self, dataloader, description, prediction_loss_only, ignore_keys, metric_key_prefix)\u001b[0m\n\u001b[1;32m   3138\u001b[0m                 \u001b[0;32mif\u001b[0m \u001b[0mself\u001b[0m\u001b[0;34m.\u001b[0m\u001b[0mpreprocess_logits_for_metrics\u001b[0m \u001b[0;32mis\u001b[0m \u001b[0;32mnot\u001b[0m \u001b[0;32mNone\u001b[0m\u001b[0;34m:\u001b[0m\u001b[0;34m\u001b[0m\u001b[0;34m\u001b[0m\u001b[0m\n\u001b[1;32m   3139\u001b[0m                     \u001b[0mlogits\u001b[0m \u001b[0;34m=\u001b[0m \u001b[0mself\u001b[0m\u001b[0;34m.\u001b[0m\u001b[0mpreprocess_logits_for_metrics\u001b[0m\u001b[0;34m(\u001b[0m\u001b[0mlogits\u001b[0m\u001b[0;34m,\u001b[0m \u001b[0mlabels\u001b[0m\u001b[0;34m)\u001b[0m\u001b[0;34m\u001b[0m\u001b[0;34m\u001b[0m\u001b[0m\n\u001b[0;32m-> 3140\u001b[0;31m                 \u001b[0mpreds_host\u001b[0m \u001b[0;34m=\u001b[0m \u001b[0mlogits\u001b[0m \u001b[0;32mif\u001b[0m \u001b[0mpreds_host\u001b[0m \u001b[0;32mis\u001b[0m \u001b[0;32mNone\u001b[0m \u001b[0;32melse\u001b[0m \u001b[0mnested_concat\u001b[0m\u001b[0;34m(\u001b[0m\u001b[0mpreds_host\u001b[0m\u001b[0;34m,\u001b[0m \u001b[0mlogits\u001b[0m\u001b[0;34m,\u001b[0m \u001b[0mpadding_index\u001b[0m\u001b[0;34m=\u001b[0m\u001b[0;34m-\u001b[0m\u001b[0;36m100\u001b[0m\u001b[0;34m)\u001b[0m\u001b[0;34m\u001b[0m\u001b[0;34m\u001b[0m\u001b[0m\n\u001b[0m\u001b[1;32m   3141\u001b[0m             \u001b[0mself\u001b[0m\u001b[0;34m.\u001b[0m\u001b[0mcontrol\u001b[0m \u001b[0;34m=\u001b[0m \u001b[0mself\u001b[0m\u001b[0;34m.\u001b[0m\u001b[0mcallback_handler\u001b[0m\u001b[0;34m.\u001b[0m\u001b[0mon_prediction_step\u001b[0m\u001b[0;34m(\u001b[0m\u001b[0margs\u001b[0m\u001b[0;34m,\u001b[0m \u001b[0mself\u001b[0m\u001b[0;34m.\u001b[0m\u001b[0mstate\u001b[0m\u001b[0;34m,\u001b[0m \u001b[0mself\u001b[0m\u001b[0;34m.\u001b[0m\u001b[0mcontrol\u001b[0m\u001b[0;34m)\u001b[0m\u001b[0;34m\u001b[0m\u001b[0;34m\u001b[0m\u001b[0m\n\u001b[1;32m   3142\u001b[0m \u001b[0;34m\u001b[0m\u001b[0m\n",
            "\u001b[0;32m/usr/local/lib/python3.9/dist-packages/transformers/trainer_pt_utils.py\u001b[0m in \u001b[0;36mnested_concat\u001b[0;34m(tensors, new_tensors, padding_index)\u001b[0m\n\u001b[1;32m    111\u001b[0m     ), f\"Expected `tensors` and `new_tensors` to have the same type but found {type(tensors)} and {type(new_tensors)}.\"\n\u001b[1;32m    112\u001b[0m     \u001b[0;32mif\u001b[0m \u001b[0misinstance\u001b[0m\u001b[0;34m(\u001b[0m\u001b[0mtensors\u001b[0m\u001b[0;34m,\u001b[0m \u001b[0;34m(\u001b[0m\u001b[0mlist\u001b[0m\u001b[0;34m,\u001b[0m \u001b[0mtuple\u001b[0m\u001b[0;34m)\u001b[0m\u001b[0;34m)\u001b[0m\u001b[0;34m:\u001b[0m\u001b[0;34m\u001b[0m\u001b[0;34m\u001b[0m\u001b[0m\n\u001b[0;32m--> 113\u001b[0;31m         \u001b[0;32mreturn\u001b[0m \u001b[0mtype\u001b[0m\u001b[0;34m(\u001b[0m\u001b[0mtensors\u001b[0m\u001b[0;34m)\u001b[0m\u001b[0;34m(\u001b[0m\u001b[0mnested_concat\u001b[0m\u001b[0;34m(\u001b[0m\u001b[0mt\u001b[0m\u001b[0;34m,\u001b[0m \u001b[0mn\u001b[0m\u001b[0;34m,\u001b[0m \u001b[0mpadding_index\u001b[0m\u001b[0;34m=\u001b[0m\u001b[0mpadding_index\u001b[0m\u001b[0;34m)\u001b[0m \u001b[0;32mfor\u001b[0m \u001b[0mt\u001b[0m\u001b[0;34m,\u001b[0m \u001b[0mn\u001b[0m \u001b[0;32min\u001b[0m \u001b[0mzip\u001b[0m\u001b[0;34m(\u001b[0m\u001b[0mtensors\u001b[0m\u001b[0;34m,\u001b[0m \u001b[0mnew_tensors\u001b[0m\u001b[0;34m)\u001b[0m\u001b[0;34m)\u001b[0m\u001b[0;34m\u001b[0m\u001b[0;34m\u001b[0m\u001b[0m\n\u001b[0m\u001b[1;32m    114\u001b[0m     \u001b[0;32melif\u001b[0m \u001b[0misinstance\u001b[0m\u001b[0;34m(\u001b[0m\u001b[0mtensors\u001b[0m\u001b[0;34m,\u001b[0m \u001b[0mtorch\u001b[0m\u001b[0;34m.\u001b[0m\u001b[0mTensor\u001b[0m\u001b[0;34m)\u001b[0m\u001b[0;34m:\u001b[0m\u001b[0;34m\u001b[0m\u001b[0;34m\u001b[0m\u001b[0m\n\u001b[1;32m    115\u001b[0m         \u001b[0;32mreturn\u001b[0m \u001b[0mtorch_pad_and_concatenate\u001b[0m\u001b[0;34m(\u001b[0m\u001b[0mtensors\u001b[0m\u001b[0;34m,\u001b[0m \u001b[0mnew_tensors\u001b[0m\u001b[0;34m,\u001b[0m \u001b[0mpadding_index\u001b[0m\u001b[0;34m=\u001b[0m\u001b[0mpadding_index\u001b[0m\u001b[0;34m)\u001b[0m\u001b[0;34m\u001b[0m\u001b[0;34m\u001b[0m\u001b[0m\n",
            "\u001b[0;32m/usr/local/lib/python3.9/dist-packages/transformers/trainer_pt_utils.py\u001b[0m in \u001b[0;36m<genexpr>\u001b[0;34m(.0)\u001b[0m\n\u001b[1;32m    111\u001b[0m     ), f\"Expected `tensors` and `new_tensors` to have the same type but found {type(tensors)} and {type(new_tensors)}.\"\n\u001b[1;32m    112\u001b[0m     \u001b[0;32mif\u001b[0m \u001b[0misinstance\u001b[0m\u001b[0;34m(\u001b[0m\u001b[0mtensors\u001b[0m\u001b[0;34m,\u001b[0m \u001b[0;34m(\u001b[0m\u001b[0mlist\u001b[0m\u001b[0;34m,\u001b[0m \u001b[0mtuple\u001b[0m\u001b[0;34m)\u001b[0m\u001b[0;34m)\u001b[0m\u001b[0;34m:\u001b[0m\u001b[0;34m\u001b[0m\u001b[0;34m\u001b[0m\u001b[0m\n\u001b[0;32m--> 113\u001b[0;31m         \u001b[0;32mreturn\u001b[0m \u001b[0mtype\u001b[0m\u001b[0;34m(\u001b[0m\u001b[0mtensors\u001b[0m\u001b[0;34m)\u001b[0m\u001b[0;34m(\u001b[0m\u001b[0mnested_concat\u001b[0m\u001b[0;34m(\u001b[0m\u001b[0mt\u001b[0m\u001b[0;34m,\u001b[0m \u001b[0mn\u001b[0m\u001b[0;34m,\u001b[0m \u001b[0mpadding_index\u001b[0m\u001b[0;34m=\u001b[0m\u001b[0mpadding_index\u001b[0m\u001b[0;34m)\u001b[0m \u001b[0;32mfor\u001b[0m \u001b[0mt\u001b[0m\u001b[0;34m,\u001b[0m \u001b[0mn\u001b[0m \u001b[0;32min\u001b[0m \u001b[0mzip\u001b[0m\u001b[0;34m(\u001b[0m\u001b[0mtensors\u001b[0m\u001b[0;34m,\u001b[0m \u001b[0mnew_tensors\u001b[0m\u001b[0;34m)\u001b[0m\u001b[0;34m)\u001b[0m\u001b[0;34m\u001b[0m\u001b[0;34m\u001b[0m\u001b[0m\n\u001b[0m\u001b[1;32m    114\u001b[0m     \u001b[0;32melif\u001b[0m \u001b[0misinstance\u001b[0m\u001b[0;34m(\u001b[0m\u001b[0mtensors\u001b[0m\u001b[0;34m,\u001b[0m \u001b[0mtorch\u001b[0m\u001b[0;34m.\u001b[0m\u001b[0mTensor\u001b[0m\u001b[0;34m)\u001b[0m\u001b[0;34m:\u001b[0m\u001b[0;34m\u001b[0m\u001b[0;34m\u001b[0m\u001b[0m\n\u001b[1;32m    115\u001b[0m         \u001b[0;32mreturn\u001b[0m \u001b[0mtorch_pad_and_concatenate\u001b[0m\u001b[0;34m(\u001b[0m\u001b[0mtensors\u001b[0m\u001b[0;34m,\u001b[0m \u001b[0mnew_tensors\u001b[0m\u001b[0;34m,\u001b[0m \u001b[0mpadding_index\u001b[0m\u001b[0;34m=\u001b[0m\u001b[0mpadding_index\u001b[0m\u001b[0;34m)\u001b[0m\u001b[0;34m\u001b[0m\u001b[0;34m\u001b[0m\u001b[0m\n",
            "\u001b[0;32m/usr/local/lib/python3.9/dist-packages/transformers/trainer_pt_utils.py\u001b[0m in \u001b[0;36mnested_concat\u001b[0;34m(tensors, new_tensors, padding_index)\u001b[0m\n\u001b[1;32m    113\u001b[0m         \u001b[0;32mreturn\u001b[0m \u001b[0mtype\u001b[0m\u001b[0;34m(\u001b[0m\u001b[0mtensors\u001b[0m\u001b[0;34m)\u001b[0m\u001b[0;34m(\u001b[0m\u001b[0mnested_concat\u001b[0m\u001b[0;34m(\u001b[0m\u001b[0mt\u001b[0m\u001b[0;34m,\u001b[0m \u001b[0mn\u001b[0m\u001b[0;34m,\u001b[0m \u001b[0mpadding_index\u001b[0m\u001b[0;34m=\u001b[0m\u001b[0mpadding_index\u001b[0m\u001b[0;34m)\u001b[0m \u001b[0;32mfor\u001b[0m \u001b[0mt\u001b[0m\u001b[0;34m,\u001b[0m \u001b[0mn\u001b[0m \u001b[0;32min\u001b[0m \u001b[0mzip\u001b[0m\u001b[0;34m(\u001b[0m\u001b[0mtensors\u001b[0m\u001b[0;34m,\u001b[0m \u001b[0mnew_tensors\u001b[0m\u001b[0;34m)\u001b[0m\u001b[0;34m)\u001b[0m\u001b[0;34m\u001b[0m\u001b[0;34m\u001b[0m\u001b[0m\n\u001b[1;32m    114\u001b[0m     \u001b[0;32melif\u001b[0m \u001b[0misinstance\u001b[0m\u001b[0;34m(\u001b[0m\u001b[0mtensors\u001b[0m\u001b[0;34m,\u001b[0m \u001b[0mtorch\u001b[0m\u001b[0;34m.\u001b[0m\u001b[0mTensor\u001b[0m\u001b[0;34m)\u001b[0m\u001b[0;34m:\u001b[0m\u001b[0;34m\u001b[0m\u001b[0;34m\u001b[0m\u001b[0m\n\u001b[0;32m--> 115\u001b[0;31m         \u001b[0;32mreturn\u001b[0m \u001b[0mtorch_pad_and_concatenate\u001b[0m\u001b[0;34m(\u001b[0m\u001b[0mtensors\u001b[0m\u001b[0;34m,\u001b[0m \u001b[0mnew_tensors\u001b[0m\u001b[0;34m,\u001b[0m \u001b[0mpadding_index\u001b[0m\u001b[0;34m=\u001b[0m\u001b[0mpadding_index\u001b[0m\u001b[0;34m)\u001b[0m\u001b[0;34m\u001b[0m\u001b[0;34m\u001b[0m\u001b[0m\n\u001b[0m\u001b[1;32m    116\u001b[0m     \u001b[0;32melif\u001b[0m \u001b[0misinstance\u001b[0m\u001b[0;34m(\u001b[0m\u001b[0mtensors\u001b[0m\u001b[0;34m,\u001b[0m \u001b[0mMapping\u001b[0m\u001b[0;34m)\u001b[0m\u001b[0;34m:\u001b[0m\u001b[0;34m\u001b[0m\u001b[0;34m\u001b[0m\u001b[0m\n\u001b[1;32m    117\u001b[0m         return type(tensors)(\n",
            "\u001b[0;32m/usr/local/lib/python3.9/dist-packages/transformers/trainer_pt_utils.py\u001b[0m in \u001b[0;36mtorch_pad_and_concatenate\u001b[0;34m(tensor1, tensor2, padding_index)\u001b[0m\n\u001b[1;32m     72\u001b[0m \u001b[0;34m\u001b[0m\u001b[0m\n\u001b[1;32m     73\u001b[0m     \u001b[0;32mif\u001b[0m \u001b[0mlen\u001b[0m\u001b[0;34m(\u001b[0m\u001b[0mtensor1\u001b[0m\u001b[0;34m.\u001b[0m\u001b[0mshape\u001b[0m\u001b[0;34m)\u001b[0m \u001b[0;34m==\u001b[0m \u001b[0;36m1\u001b[0m \u001b[0;32mor\u001b[0m \u001b[0mtensor1\u001b[0m\u001b[0;34m.\u001b[0m\u001b[0mshape\u001b[0m\u001b[0;34m[\u001b[0m\u001b[0;36m1\u001b[0m\u001b[0;34m]\u001b[0m \u001b[0;34m==\u001b[0m \u001b[0mtensor2\u001b[0m\u001b[0;34m.\u001b[0m\u001b[0mshape\u001b[0m\u001b[0;34m[\u001b[0m\u001b[0;36m1\u001b[0m\u001b[0;34m]\u001b[0m\u001b[0;34m:\u001b[0m\u001b[0;34m\u001b[0m\u001b[0;34m\u001b[0m\u001b[0m\n\u001b[0;32m---> 74\u001b[0;31m         \u001b[0;32mreturn\u001b[0m \u001b[0mtorch\u001b[0m\u001b[0;34m.\u001b[0m\u001b[0mcat\u001b[0m\u001b[0;34m(\u001b[0m\u001b[0;34m(\u001b[0m\u001b[0mtensor1\u001b[0m\u001b[0;34m,\u001b[0m \u001b[0mtensor2\u001b[0m\u001b[0;34m)\u001b[0m\u001b[0;34m,\u001b[0m \u001b[0mdim\u001b[0m\u001b[0;34m=\u001b[0m\u001b[0;36m0\u001b[0m\u001b[0;34m)\u001b[0m\u001b[0;34m\u001b[0m\u001b[0;34m\u001b[0m\u001b[0m\n\u001b[0m\u001b[1;32m     75\u001b[0m \u001b[0;34m\u001b[0m\u001b[0m\n\u001b[1;32m     76\u001b[0m     \u001b[0;31m# Let's figure out the new shape\u001b[0m\u001b[0;34m\u001b[0m\u001b[0;34m\u001b[0m\u001b[0m\n",
            "\u001b[0;31mOutOfMemoryError\u001b[0m: CUDA out of memory. Tried to allocate 704.00 MiB (GPU 0; 14.75 GiB total capacity; 12.49 GiB already allocated; 470.81 MiB free; 13.28 GiB reserved in total by PyTorch) If reserved memory is >> allocated memory try setting max_split_size_mb to avoid fragmentation.  See documentation for Memory Management and PYTORCH_CUDA_ALLOC_CONF"
          ]
        }
      ]
    },
    {
      "cell_type": "markdown",
      "metadata": {
        "id": "j6oYCWR8RNg-"
      },
      "source": [
        "## Testing the model 📝\n",
        "- You can now load the model from HuggingFace and test it."
      ]
    },
    {
      "cell_type": "code",
      "execution_count": null,
      "metadata": {
        "id": "p6H3FZjMM8e2"
      },
      "outputs": [],
      "source": [
        "from transformers import T5ForConditionalGeneration, T5TokenizerFast\n",
        "\n",
        "hfmodel = T5ForConditionalGeneration.from_pretrained(\"Khushnur/t5-end2end-questions-generation\")"
      ]
    },
    {
      "cell_type": "code",
      "execution_count": null,
      "metadata": {
        "id": "1ykfhfjRNaV2"
      },
      "outputs": [],
      "source": [
        "def hf_run_model(input_string, **generator_args):\n",
        "  generator_args = {\n",
        "  \"max_length\": 256,\n",
        "  \"num_beams\": 4,\n",
        "  \"length_penalty\": 1.5,\n",
        "  \"no_repeat_ngram_size\": 3,\n",
        "  \"early_stopping\": True,\n",
        "  }\n",
        "  input_string = \"generate questions: \" + input_string + \" </s>\"\n",
        "  input_ids = tokenizer.encode(input_string, return_tensors=\"pt\")\n",
        "  res = hfmodel.generate(input_ids, **generator_args)\n",
        "  output = tokenizer.batch_decode(res, skip_special_tokens=True)\n",
        "  output = [item.split(\"<sep>\") for item in output]\n",
        "  return output"
      ]
    },
    {
      "cell_type": "code",
      "execution_count": null,
      "metadata": {
        "id": "OG82dfGbK63x"
      },
      "outputs": [],
      "source": [
        "text = \"Forrest Gump is a 1994 American comedy-drama film directed by Robert Zemeckis and written by Eric Roth. \\\n",
        "It is based on the 1986 novel of the same name by Winston Groom and stars Tom Hanks, Robin Wright, Gary Sinise, \\\n",
        "Mykelti Williamson and Sally Field. The story depicts several decades in the life of Forrest Gump (Hanks), \\\n",
        "a slow-witted but kind-hearted man from Alabama who witnesses and unwittingly influences several defining \\\n",
        "historical events in the 20th century United States. The film differs substantially from the novel.\""
      ]
    },
    {
      "cell_type": "code",
      "execution_count": null,
      "metadata": {
        "id": "8iy8pkDtkDJ9"
      },
      "outputs": [],
      "source": [
        "hf_run_model(text)"
      ]
    },
    {
      "cell_type": "code",
      "execution_count": null,
      "metadata": {
        "id": "_IhKYpiDS9vG"
      },
      "outputs": [],
      "source": [
        "text= \"The abolition of feudal privileges by the National Constituent Assembly on 4 August 1789 and the Declaration \\\n",
        "of the Rights of Man and of the Citizen (La Déclaration des Droits de l'Homme et du Citoyen), drafted by Lafayette \\\n",
        "with the help of Thomas Jefferson and adopted on 26 August, paved the way to a Constitutional Monarchy \\\n",
        "(4 September 1791 – 21 September 1792). Despite these dramatic changes, life at the court continued, while the situation \\\n",
        "in Paris was becoming critical because of bread shortages in September. On 5 October 1789, a crowd from Paris descended upon Versailles \\\n",
        "and forced the royal family to move to the Tuileries Palace in Paris, where they lived under a form of house arrest under \\\n",
        "the watch of Lafayette's Garde Nationale, while the Comte de Provence and his wife were allowed to reside in the \\\n",
        "Petit Luxembourg, where they remained until they went into exile on 20 June 1791.\""
      ]
    },
    {
      "cell_type": "code",
      "execution_count": null,
      "metadata": {
        "id": "Mz8A5fP3Nhki"
      },
      "outputs": [],
      "source": [
        "hf_run_model(text)"
      ]
    },
    {
      "cell_type": "markdown",
      "metadata": {
        "id": "uj_i6zUlacG3"
      },
      "source": [
        "## What's next?\n",
        "- **This notebook is a work in progress** , the first next step is to add evaluation test using Rouge metrics, if you don't know about this metric, check this [article](https://towardsdatascience.com/the-ultimate-performance-metric-in-nlp-111df6c64460)\n",
        "- As explained in [the paper](https://arxiv.org/pdf/2005.01107v1.pdf), most of the question are closed questions. This is explained because SQuAD contains 88.26% identification type questions in the training set => **you can improve the model by adding other datasets, by first trying SQuAD v2**\n",
        "- What about making a webapp? Check [Spaces](https://huggingface.co/spaces)\n"
      ]
    },
    {
      "cell_type": "markdown",
      "metadata": {
        "id": "8QfaC-qWeLpl"
      },
      "source": [
        "## My TODO:\n",
        "- Add Rouge eval test\n",
        "- Wandb didn't recorded training loss but only evaluation loss.\n",
        "- Add SQuAD v2\n",
        "- Pushing the SQuAD version for question generation on HF Hub (instead of using this upload .py file system that's not scalable)\n",
        "- Solve the issue with Accelerated Inference API => because of the tokenizer\n",
        "\n",
        "✅ Improve the postprocessing of questions\n",
        "\n",
        "✅ Make a Spaces web app?\n"
      ]
    }
  ],
  "metadata": {
    "accelerator": "GPU",
    "colab": {
      "machine_shape": "hm",
      "provenance": [],
      "include_colab_link": true
    },
    "kernelspec": {
      "display_name": "Python 3",
      "name": "python3"
    },
    "language_info": {
      "name": "python"
    },
    "widgets": {
      "application/vnd.jupyter.widget-state+json": {
        "42da4b6c2fb34ecca8046daf0426384d": {
          "model_module": "@jupyter-widgets/controls",
          "model_name": "VBoxModel",
          "model_module_version": "1.5.0",
          "state": {
            "_dom_classes": [],
            "_model_module": "@jupyter-widgets/controls",
            "_model_module_version": "1.5.0",
            "_model_name": "VBoxModel",
            "_view_count": null,
            "_view_module": "@jupyter-widgets/controls",
            "_view_module_version": "1.5.0",
            "_view_name": "VBoxView",
            "box_style": "",
            "children": [
              "IPY_MODEL_4d36f8baeff74246ae45cdec5ad87b20",
              "IPY_MODEL_0280e6401b334b1c84f20b98b71e7887",
              "IPY_MODEL_6300a7b40642467f829832ea4b6692f4",
              "IPY_MODEL_9b515c59109c4daba7e916285489643d",
              "IPY_MODEL_9b394ef0957e442f9a161382a9c7e8ac"
            ],
            "layout": "IPY_MODEL_04f7aa07b5f145ca985b737a0bddee96"
          }
        },
        "4d36f8baeff74246ae45cdec5ad87b20": {
          "model_module": "@jupyter-widgets/controls",
          "model_name": "HTMLModel",
          "model_module_version": "1.5.0",
          "state": {
            "_dom_classes": [],
            "_model_module": "@jupyter-widgets/controls",
            "_model_module_version": "1.5.0",
            "_model_name": "HTMLModel",
            "_view_count": null,
            "_view_module": "@jupyter-widgets/controls",
            "_view_module_version": "1.5.0",
            "_view_name": "HTMLView",
            "description": "",
            "description_tooltip": null,
            "layout": "IPY_MODEL_73584163ed5944218f92d4be32275ea4",
            "placeholder": "​",
            "style": "IPY_MODEL_68fcb2f0d26c4909b4a8d42b92fe6567",
            "value": "<center> <img\nsrc=https://huggingface.co/front/assets/huggingface_logo-noborder.svg\nalt='Hugging Face'> <br> Copy a token from <a\nhref=\"https://huggingface.co/settings/tokens\" target=\"_blank\">your Hugging Face\ntokens page</a> and paste it below. <br> Immediately click login after copying\nyour token or it might be stored in plain text in this notebook file. </center>"
          }
        },
        "0280e6401b334b1c84f20b98b71e7887": {
          "model_module": "@jupyter-widgets/controls",
          "model_name": "PasswordModel",
          "model_module_version": "1.5.0",
          "state": {
            "_dom_classes": [],
            "_model_module": "@jupyter-widgets/controls",
            "_model_module_version": "1.5.0",
            "_model_name": "PasswordModel",
            "_view_count": null,
            "_view_module": "@jupyter-widgets/controls",
            "_view_module_version": "1.5.0",
            "_view_name": "PasswordView",
            "continuous_update": true,
            "description": "Token:",
            "description_tooltip": null,
            "disabled": false,
            "layout": "IPY_MODEL_49c0c421edc44a599df7c71921b568f3",
            "placeholder": "​",
            "style": "IPY_MODEL_045df23c84ea4947b58ddb6fe587f55c",
            "value": ""
          }
        },
        "6300a7b40642467f829832ea4b6692f4": {
          "model_module": "@jupyter-widgets/controls",
          "model_name": "CheckboxModel",
          "model_module_version": "1.5.0",
          "state": {
            "_dom_classes": [],
            "_model_module": "@jupyter-widgets/controls",
            "_model_module_version": "1.5.0",
            "_model_name": "CheckboxModel",
            "_view_count": null,
            "_view_module": "@jupyter-widgets/controls",
            "_view_module_version": "1.5.0",
            "_view_name": "CheckboxView",
            "description": "Add token as git credential?",
            "description_tooltip": null,
            "disabled": false,
            "indent": true,
            "layout": "IPY_MODEL_11fd6992f446402b8cf106e2e5e17505",
            "style": "IPY_MODEL_b26c8780203e43639b21c36d3eeae175",
            "value": true
          }
        },
        "9b515c59109c4daba7e916285489643d": {
          "model_module": "@jupyter-widgets/controls",
          "model_name": "ButtonModel",
          "model_module_version": "1.5.0",
          "state": {
            "_dom_classes": [],
            "_model_module": "@jupyter-widgets/controls",
            "_model_module_version": "1.5.0",
            "_model_name": "ButtonModel",
            "_view_count": null,
            "_view_module": "@jupyter-widgets/controls",
            "_view_module_version": "1.5.0",
            "_view_name": "ButtonView",
            "button_style": "",
            "description": "Login",
            "disabled": false,
            "icon": "",
            "layout": "IPY_MODEL_31514384aa4942f39d745bd233e41653",
            "style": "IPY_MODEL_aab901e2a2eb48a682237cb8675ed7c7",
            "tooltip": ""
          }
        },
        "9b394ef0957e442f9a161382a9c7e8ac": {
          "model_module": "@jupyter-widgets/controls",
          "model_name": "HTMLModel",
          "model_module_version": "1.5.0",
          "state": {
            "_dom_classes": [],
            "_model_module": "@jupyter-widgets/controls",
            "_model_module_version": "1.5.0",
            "_model_name": "HTMLModel",
            "_view_count": null,
            "_view_module": "@jupyter-widgets/controls",
            "_view_module_version": "1.5.0",
            "_view_name": "HTMLView",
            "description": "",
            "description_tooltip": null,
            "layout": "IPY_MODEL_8dd6a3158ce4494382615c8efe068dc4",
            "placeholder": "​",
            "style": "IPY_MODEL_27391bbca5b3482aa5e5974805f81b07",
            "value": "\n<b>Pro Tip:</b> If you don't already have one, you can create a dedicated\n'notebooks' token with 'write' access, that you can then easily reuse for all\nnotebooks. </center>"
          }
        },
        "04f7aa07b5f145ca985b737a0bddee96": {
          "model_module": "@jupyter-widgets/base",
          "model_name": "LayoutModel",
          "model_module_version": "1.2.0",
          "state": {
            "_model_module": "@jupyter-widgets/base",
            "_model_module_version": "1.2.0",
            "_model_name": "LayoutModel",
            "_view_count": null,
            "_view_module": "@jupyter-widgets/base",
            "_view_module_version": "1.2.0",
            "_view_name": "LayoutView",
            "align_content": null,
            "align_items": "center",
            "align_self": null,
            "border": null,
            "bottom": null,
            "display": "flex",
            "flex": null,
            "flex_flow": "column",
            "grid_area": null,
            "grid_auto_columns": null,
            "grid_auto_flow": null,
            "grid_auto_rows": null,
            "grid_column": null,
            "grid_gap": null,
            "grid_row": null,
            "grid_template_areas": null,
            "grid_template_columns": null,
            "grid_template_rows": null,
            "height": null,
            "justify_content": null,
            "justify_items": null,
            "left": null,
            "margin": null,
            "max_height": null,
            "max_width": null,
            "min_height": null,
            "min_width": null,
            "object_fit": null,
            "object_position": null,
            "order": null,
            "overflow": null,
            "overflow_x": null,
            "overflow_y": null,
            "padding": null,
            "right": null,
            "top": null,
            "visibility": null,
            "width": "50%"
          }
        },
        "73584163ed5944218f92d4be32275ea4": {
          "model_module": "@jupyter-widgets/base",
          "model_name": "LayoutModel",
          "model_module_version": "1.2.0",
          "state": {
            "_model_module": "@jupyter-widgets/base",
            "_model_module_version": "1.2.0",
            "_model_name": "LayoutModel",
            "_view_count": null,
            "_view_module": "@jupyter-widgets/base",
            "_view_module_version": "1.2.0",
            "_view_name": "LayoutView",
            "align_content": null,
            "align_items": null,
            "align_self": null,
            "border": null,
            "bottom": null,
            "display": null,
            "flex": null,
            "flex_flow": null,
            "grid_area": null,
            "grid_auto_columns": null,
            "grid_auto_flow": null,
            "grid_auto_rows": null,
            "grid_column": null,
            "grid_gap": null,
            "grid_row": null,
            "grid_template_areas": null,
            "grid_template_columns": null,
            "grid_template_rows": null,
            "height": null,
            "justify_content": null,
            "justify_items": null,
            "left": null,
            "margin": null,
            "max_height": null,
            "max_width": null,
            "min_height": null,
            "min_width": null,
            "object_fit": null,
            "object_position": null,
            "order": null,
            "overflow": null,
            "overflow_x": null,
            "overflow_y": null,
            "padding": null,
            "right": null,
            "top": null,
            "visibility": null,
            "width": null
          }
        },
        "68fcb2f0d26c4909b4a8d42b92fe6567": {
          "model_module": "@jupyter-widgets/controls",
          "model_name": "DescriptionStyleModel",
          "model_module_version": "1.5.0",
          "state": {
            "_model_module": "@jupyter-widgets/controls",
            "_model_module_version": "1.5.0",
            "_model_name": "DescriptionStyleModel",
            "_view_count": null,
            "_view_module": "@jupyter-widgets/base",
            "_view_module_version": "1.2.0",
            "_view_name": "StyleView",
            "description_width": ""
          }
        },
        "49c0c421edc44a599df7c71921b568f3": {
          "model_module": "@jupyter-widgets/base",
          "model_name": "LayoutModel",
          "model_module_version": "1.2.0",
          "state": {
            "_model_module": "@jupyter-widgets/base",
            "_model_module_version": "1.2.0",
            "_model_name": "LayoutModel",
            "_view_count": null,
            "_view_module": "@jupyter-widgets/base",
            "_view_module_version": "1.2.0",
            "_view_name": "LayoutView",
            "align_content": null,
            "align_items": null,
            "align_self": null,
            "border": null,
            "bottom": null,
            "display": null,
            "flex": null,
            "flex_flow": null,
            "grid_area": null,
            "grid_auto_columns": null,
            "grid_auto_flow": null,
            "grid_auto_rows": null,
            "grid_column": null,
            "grid_gap": null,
            "grid_row": null,
            "grid_template_areas": null,
            "grid_template_columns": null,
            "grid_template_rows": null,
            "height": null,
            "justify_content": null,
            "justify_items": null,
            "left": null,
            "margin": null,
            "max_height": null,
            "max_width": null,
            "min_height": null,
            "min_width": null,
            "object_fit": null,
            "object_position": null,
            "order": null,
            "overflow": null,
            "overflow_x": null,
            "overflow_y": null,
            "padding": null,
            "right": null,
            "top": null,
            "visibility": null,
            "width": null
          }
        },
        "045df23c84ea4947b58ddb6fe587f55c": {
          "model_module": "@jupyter-widgets/controls",
          "model_name": "DescriptionStyleModel",
          "model_module_version": "1.5.0",
          "state": {
            "_model_module": "@jupyter-widgets/controls",
            "_model_module_version": "1.5.0",
            "_model_name": "DescriptionStyleModel",
            "_view_count": null,
            "_view_module": "@jupyter-widgets/base",
            "_view_module_version": "1.2.0",
            "_view_name": "StyleView",
            "description_width": ""
          }
        },
        "11fd6992f446402b8cf106e2e5e17505": {
          "model_module": "@jupyter-widgets/base",
          "model_name": "LayoutModel",
          "model_module_version": "1.2.0",
          "state": {
            "_model_module": "@jupyter-widgets/base",
            "_model_module_version": "1.2.0",
            "_model_name": "LayoutModel",
            "_view_count": null,
            "_view_module": "@jupyter-widgets/base",
            "_view_module_version": "1.2.0",
            "_view_name": "LayoutView",
            "align_content": null,
            "align_items": null,
            "align_self": null,
            "border": null,
            "bottom": null,
            "display": null,
            "flex": null,
            "flex_flow": null,
            "grid_area": null,
            "grid_auto_columns": null,
            "grid_auto_flow": null,
            "grid_auto_rows": null,
            "grid_column": null,
            "grid_gap": null,
            "grid_row": null,
            "grid_template_areas": null,
            "grid_template_columns": null,
            "grid_template_rows": null,
            "height": null,
            "justify_content": null,
            "justify_items": null,
            "left": null,
            "margin": null,
            "max_height": null,
            "max_width": null,
            "min_height": null,
            "min_width": null,
            "object_fit": null,
            "object_position": null,
            "order": null,
            "overflow": null,
            "overflow_x": null,
            "overflow_y": null,
            "padding": null,
            "right": null,
            "top": null,
            "visibility": null,
            "width": null
          }
        },
        "b26c8780203e43639b21c36d3eeae175": {
          "model_module": "@jupyter-widgets/controls",
          "model_name": "DescriptionStyleModel",
          "model_module_version": "1.5.0",
          "state": {
            "_model_module": "@jupyter-widgets/controls",
            "_model_module_version": "1.5.0",
            "_model_name": "DescriptionStyleModel",
            "_view_count": null,
            "_view_module": "@jupyter-widgets/base",
            "_view_module_version": "1.2.0",
            "_view_name": "StyleView",
            "description_width": ""
          }
        },
        "31514384aa4942f39d745bd233e41653": {
          "model_module": "@jupyter-widgets/base",
          "model_name": "LayoutModel",
          "model_module_version": "1.2.0",
          "state": {
            "_model_module": "@jupyter-widgets/base",
            "_model_module_version": "1.2.0",
            "_model_name": "LayoutModel",
            "_view_count": null,
            "_view_module": "@jupyter-widgets/base",
            "_view_module_version": "1.2.0",
            "_view_name": "LayoutView",
            "align_content": null,
            "align_items": null,
            "align_self": null,
            "border": null,
            "bottom": null,
            "display": null,
            "flex": null,
            "flex_flow": null,
            "grid_area": null,
            "grid_auto_columns": null,
            "grid_auto_flow": null,
            "grid_auto_rows": null,
            "grid_column": null,
            "grid_gap": null,
            "grid_row": null,
            "grid_template_areas": null,
            "grid_template_columns": null,
            "grid_template_rows": null,
            "height": null,
            "justify_content": null,
            "justify_items": null,
            "left": null,
            "margin": null,
            "max_height": null,
            "max_width": null,
            "min_height": null,
            "min_width": null,
            "object_fit": null,
            "object_position": null,
            "order": null,
            "overflow": null,
            "overflow_x": null,
            "overflow_y": null,
            "padding": null,
            "right": null,
            "top": null,
            "visibility": null,
            "width": null
          }
        },
        "aab901e2a2eb48a682237cb8675ed7c7": {
          "model_module": "@jupyter-widgets/controls",
          "model_name": "ButtonStyleModel",
          "model_module_version": "1.5.0",
          "state": {
            "_model_module": "@jupyter-widgets/controls",
            "_model_module_version": "1.5.0",
            "_model_name": "ButtonStyleModel",
            "_view_count": null,
            "_view_module": "@jupyter-widgets/base",
            "_view_module_version": "1.2.0",
            "_view_name": "StyleView",
            "button_color": null,
            "font_weight": ""
          }
        },
        "8dd6a3158ce4494382615c8efe068dc4": {
          "model_module": "@jupyter-widgets/base",
          "model_name": "LayoutModel",
          "model_module_version": "1.2.0",
          "state": {
            "_model_module": "@jupyter-widgets/base",
            "_model_module_version": "1.2.0",
            "_model_name": "LayoutModel",
            "_view_count": null,
            "_view_module": "@jupyter-widgets/base",
            "_view_module_version": "1.2.0",
            "_view_name": "LayoutView",
            "align_content": null,
            "align_items": null,
            "align_self": null,
            "border": null,
            "bottom": null,
            "display": null,
            "flex": null,
            "flex_flow": null,
            "grid_area": null,
            "grid_auto_columns": null,
            "grid_auto_flow": null,
            "grid_auto_rows": null,
            "grid_column": null,
            "grid_gap": null,
            "grid_row": null,
            "grid_template_areas": null,
            "grid_template_columns": null,
            "grid_template_rows": null,
            "height": null,
            "justify_content": null,
            "justify_items": null,
            "left": null,
            "margin": null,
            "max_height": null,
            "max_width": null,
            "min_height": null,
            "min_width": null,
            "object_fit": null,
            "object_position": null,
            "order": null,
            "overflow": null,
            "overflow_x": null,
            "overflow_y": null,
            "padding": null,
            "right": null,
            "top": null,
            "visibility": null,
            "width": null
          }
        },
        "27391bbca5b3482aa5e5974805f81b07": {
          "model_module": "@jupyter-widgets/controls",
          "model_name": "DescriptionStyleModel",
          "model_module_version": "1.5.0",
          "state": {
            "_model_module": "@jupyter-widgets/controls",
            "_model_module_version": "1.5.0",
            "_model_name": "DescriptionStyleModel",
            "_view_count": null,
            "_view_module": "@jupyter-widgets/base",
            "_view_module_version": "1.2.0",
            "_view_name": "StyleView",
            "description_width": ""
          }
        },
        "fceee50a51d2440bbe67fc02b067770d": {
          "model_module": "@jupyter-widgets/controls",
          "model_name": "HBoxModel",
          "model_module_version": "1.5.0",
          "state": {
            "_dom_classes": [],
            "_model_module": "@jupyter-widgets/controls",
            "_model_module_version": "1.5.0",
            "_model_name": "HBoxModel",
            "_view_count": null,
            "_view_module": "@jupyter-widgets/controls",
            "_view_module_version": "1.5.0",
            "_view_name": "HBoxView",
            "box_style": "",
            "children": [
              "IPY_MODEL_b647b70680c64911987db72a394e2916",
              "IPY_MODEL_fa37bf462238413aa9332a72ef85dd6d",
              "IPY_MODEL_aae114a54fb9403d85905915f83cd5a9"
            ],
            "layout": "IPY_MODEL_72bfeed9d6ad4ac3a2dcd5d0f51d9534"
          }
        },
        "b647b70680c64911987db72a394e2916": {
          "model_module": "@jupyter-widgets/controls",
          "model_name": "HTMLModel",
          "model_module_version": "1.5.0",
          "state": {
            "_dom_classes": [],
            "_model_module": "@jupyter-widgets/controls",
            "_model_module_version": "1.5.0",
            "_model_name": "HTMLModel",
            "_view_count": null,
            "_view_module": "@jupyter-widgets/controls",
            "_view_module_version": "1.5.0",
            "_view_name": "HTMLView",
            "description": "",
            "description_tooltip": null,
            "layout": "IPY_MODEL_f51356c88da14b5e98260458da15e988",
            "placeholder": "​",
            "style": "IPY_MODEL_6f2ffbd651174a4ba19fa1053f0dca30",
            "value": "100%"
          }
        },
        "fa37bf462238413aa9332a72ef85dd6d": {
          "model_module": "@jupyter-widgets/controls",
          "model_name": "FloatProgressModel",
          "model_module_version": "1.5.0",
          "state": {
            "_dom_classes": [],
            "_model_module": "@jupyter-widgets/controls",
            "_model_module_version": "1.5.0",
            "_model_name": "FloatProgressModel",
            "_view_count": null,
            "_view_module": "@jupyter-widgets/controls",
            "_view_module_version": "1.5.0",
            "_view_name": "ProgressView",
            "bar_style": "success",
            "description": "",
            "description_tooltip": null,
            "layout": "IPY_MODEL_5b8e529db2874b8e99e1c9fda35d1524",
            "max": 2,
            "min": 0,
            "orientation": "horizontal",
            "style": "IPY_MODEL_4f1f302a42fb493fa0d5abdf6377da6b",
            "value": 2
          }
        },
        "aae114a54fb9403d85905915f83cd5a9": {
          "model_module": "@jupyter-widgets/controls",
          "model_name": "HTMLModel",
          "model_module_version": "1.5.0",
          "state": {
            "_dom_classes": [],
            "_model_module": "@jupyter-widgets/controls",
            "_model_module_version": "1.5.0",
            "_model_name": "HTMLModel",
            "_view_count": null,
            "_view_module": "@jupyter-widgets/controls",
            "_view_module_version": "1.5.0",
            "_view_name": "HTMLView",
            "description": "",
            "description_tooltip": null,
            "layout": "IPY_MODEL_f5dfd6051df94b7b9e03df5591440928",
            "placeholder": "​",
            "style": "IPY_MODEL_2dcb73b0154747aca74748933b02b389",
            "value": " 2/2 [00:00&lt;00:00, 61.75it/s]"
          }
        },
        "72bfeed9d6ad4ac3a2dcd5d0f51d9534": {
          "model_module": "@jupyter-widgets/base",
          "model_name": "LayoutModel",
          "model_module_version": "1.2.0",
          "state": {
            "_model_module": "@jupyter-widgets/base",
            "_model_module_version": "1.2.0",
            "_model_name": "LayoutModel",
            "_view_count": null,
            "_view_module": "@jupyter-widgets/base",
            "_view_module_version": "1.2.0",
            "_view_name": "LayoutView",
            "align_content": null,
            "align_items": null,
            "align_self": null,
            "border": null,
            "bottom": null,
            "display": null,
            "flex": null,
            "flex_flow": null,
            "grid_area": null,
            "grid_auto_columns": null,
            "grid_auto_flow": null,
            "grid_auto_rows": null,
            "grid_column": null,
            "grid_gap": null,
            "grid_row": null,
            "grid_template_areas": null,
            "grid_template_columns": null,
            "grid_template_rows": null,
            "height": null,
            "justify_content": null,
            "justify_items": null,
            "left": null,
            "margin": null,
            "max_height": null,
            "max_width": null,
            "min_height": null,
            "min_width": null,
            "object_fit": null,
            "object_position": null,
            "order": null,
            "overflow": null,
            "overflow_x": null,
            "overflow_y": null,
            "padding": null,
            "right": null,
            "top": null,
            "visibility": null,
            "width": null
          }
        },
        "f51356c88da14b5e98260458da15e988": {
          "model_module": "@jupyter-widgets/base",
          "model_name": "LayoutModel",
          "model_module_version": "1.2.0",
          "state": {
            "_model_module": "@jupyter-widgets/base",
            "_model_module_version": "1.2.0",
            "_model_name": "LayoutModel",
            "_view_count": null,
            "_view_module": "@jupyter-widgets/base",
            "_view_module_version": "1.2.0",
            "_view_name": "LayoutView",
            "align_content": null,
            "align_items": null,
            "align_self": null,
            "border": null,
            "bottom": null,
            "display": null,
            "flex": null,
            "flex_flow": null,
            "grid_area": null,
            "grid_auto_columns": null,
            "grid_auto_flow": null,
            "grid_auto_rows": null,
            "grid_column": null,
            "grid_gap": null,
            "grid_row": null,
            "grid_template_areas": null,
            "grid_template_columns": null,
            "grid_template_rows": null,
            "height": null,
            "justify_content": null,
            "justify_items": null,
            "left": null,
            "margin": null,
            "max_height": null,
            "max_width": null,
            "min_height": null,
            "min_width": null,
            "object_fit": null,
            "object_position": null,
            "order": null,
            "overflow": null,
            "overflow_x": null,
            "overflow_y": null,
            "padding": null,
            "right": null,
            "top": null,
            "visibility": null,
            "width": null
          }
        },
        "6f2ffbd651174a4ba19fa1053f0dca30": {
          "model_module": "@jupyter-widgets/controls",
          "model_name": "DescriptionStyleModel",
          "model_module_version": "1.5.0",
          "state": {
            "_model_module": "@jupyter-widgets/controls",
            "_model_module_version": "1.5.0",
            "_model_name": "DescriptionStyleModel",
            "_view_count": null,
            "_view_module": "@jupyter-widgets/base",
            "_view_module_version": "1.2.0",
            "_view_name": "StyleView",
            "description_width": ""
          }
        },
        "5b8e529db2874b8e99e1c9fda35d1524": {
          "model_module": "@jupyter-widgets/base",
          "model_name": "LayoutModel",
          "model_module_version": "1.2.0",
          "state": {
            "_model_module": "@jupyter-widgets/base",
            "_model_module_version": "1.2.0",
            "_model_name": "LayoutModel",
            "_view_count": null,
            "_view_module": "@jupyter-widgets/base",
            "_view_module_version": "1.2.0",
            "_view_name": "LayoutView",
            "align_content": null,
            "align_items": null,
            "align_self": null,
            "border": null,
            "bottom": null,
            "display": null,
            "flex": null,
            "flex_flow": null,
            "grid_area": null,
            "grid_auto_columns": null,
            "grid_auto_flow": null,
            "grid_auto_rows": null,
            "grid_column": null,
            "grid_gap": null,
            "grid_row": null,
            "grid_template_areas": null,
            "grid_template_columns": null,
            "grid_template_rows": null,
            "height": null,
            "justify_content": null,
            "justify_items": null,
            "left": null,
            "margin": null,
            "max_height": null,
            "max_width": null,
            "min_height": null,
            "min_width": null,
            "object_fit": null,
            "object_position": null,
            "order": null,
            "overflow": null,
            "overflow_x": null,
            "overflow_y": null,
            "padding": null,
            "right": null,
            "top": null,
            "visibility": null,
            "width": null
          }
        },
        "4f1f302a42fb493fa0d5abdf6377da6b": {
          "model_module": "@jupyter-widgets/controls",
          "model_name": "ProgressStyleModel",
          "model_module_version": "1.5.0",
          "state": {
            "_model_module": "@jupyter-widgets/controls",
            "_model_module_version": "1.5.0",
            "_model_name": "ProgressStyleModel",
            "_view_count": null,
            "_view_module": "@jupyter-widgets/base",
            "_view_module_version": "1.2.0",
            "_view_name": "StyleView",
            "bar_color": null,
            "description_width": ""
          }
        },
        "f5dfd6051df94b7b9e03df5591440928": {
          "model_module": "@jupyter-widgets/base",
          "model_name": "LayoutModel",
          "model_module_version": "1.2.0",
          "state": {
            "_model_module": "@jupyter-widgets/base",
            "_model_module_version": "1.2.0",
            "_model_name": "LayoutModel",
            "_view_count": null,
            "_view_module": "@jupyter-widgets/base",
            "_view_module_version": "1.2.0",
            "_view_name": "LayoutView",
            "align_content": null,
            "align_items": null,
            "align_self": null,
            "border": null,
            "bottom": null,
            "display": null,
            "flex": null,
            "flex_flow": null,
            "grid_area": null,
            "grid_auto_columns": null,
            "grid_auto_flow": null,
            "grid_auto_rows": null,
            "grid_column": null,
            "grid_gap": null,
            "grid_row": null,
            "grid_template_areas": null,
            "grid_template_columns": null,
            "grid_template_rows": null,
            "height": null,
            "justify_content": null,
            "justify_items": null,
            "left": null,
            "margin": null,
            "max_height": null,
            "max_width": null,
            "min_height": null,
            "min_width": null,
            "object_fit": null,
            "object_position": null,
            "order": null,
            "overflow": null,
            "overflow_x": null,
            "overflow_y": null,
            "padding": null,
            "right": null,
            "top": null,
            "visibility": null,
            "width": null
          }
        },
        "2dcb73b0154747aca74748933b02b389": {
          "model_module": "@jupyter-widgets/controls",
          "model_name": "DescriptionStyleModel",
          "model_module_version": "1.5.0",
          "state": {
            "_model_module": "@jupyter-widgets/controls",
            "_model_module_version": "1.5.0",
            "_model_name": "DescriptionStyleModel",
            "_view_count": null,
            "_view_module": "@jupyter-widgets/base",
            "_view_module_version": "1.2.0",
            "_view_name": "StyleView",
            "description_width": ""
          }
        },
        "82b8a90975684c15a6ecd0f4f05c63ff": {
          "model_module": "@jupyter-widgets/controls",
          "model_name": "HBoxModel",
          "model_module_version": "1.5.0",
          "state": {
            "_dom_classes": [],
            "_model_module": "@jupyter-widgets/controls",
            "_model_module_version": "1.5.0",
            "_model_name": "HBoxModel",
            "_view_count": null,
            "_view_module": "@jupyter-widgets/controls",
            "_view_module_version": "1.5.0",
            "_view_name": "HBoxView",
            "box_style": "",
            "children": [
              "IPY_MODEL_f37abc7aac8c4c95a40cb6227c80fbe7",
              "IPY_MODEL_505bbfc4e3094061a18199f8567eb4d4",
              "IPY_MODEL_f187db3c12684399b0dc4286a2f8ab18"
            ],
            "layout": "IPY_MODEL_616b6fe239c8435090248e6b9af3248a"
          }
        },
        "f37abc7aac8c4c95a40cb6227c80fbe7": {
          "model_module": "@jupyter-widgets/controls",
          "model_name": "HTMLModel",
          "model_module_version": "1.5.0",
          "state": {
            "_dom_classes": [],
            "_model_module": "@jupyter-widgets/controls",
            "_model_module_version": "1.5.0",
            "_model_name": "HTMLModel",
            "_view_count": null,
            "_view_module": "@jupyter-widgets/controls",
            "_view_module_version": "1.5.0",
            "_view_name": "HTMLView",
            "description": "",
            "description_tooltip": null,
            "layout": "IPY_MODEL_4bb9a06cc915421e974047ece997dd30",
            "placeholder": "​",
            "style": "IPY_MODEL_6246af45202f40bdb7c0ce4a6cfe4ecb",
            "value": "Map: 100%"
          }
        },
        "505bbfc4e3094061a18199f8567eb4d4": {
          "model_module": "@jupyter-widgets/controls",
          "model_name": "FloatProgressModel",
          "model_module_version": "1.5.0",
          "state": {
            "_dom_classes": [],
            "_model_module": "@jupyter-widgets/controls",
            "_model_module_version": "1.5.0",
            "_model_name": "FloatProgressModel",
            "_view_count": null,
            "_view_module": "@jupyter-widgets/controls",
            "_view_module_version": "1.5.0",
            "_view_name": "ProgressView",
            "bar_style": "",
            "description": "",
            "description_tooltip": null,
            "layout": "IPY_MODEL_f3f6d06b51664869b8e62c642a37d399",
            "max": 1204,
            "min": 0,
            "orientation": "horizontal",
            "style": "IPY_MODEL_1d88da5a7036442ab0d2c9bd740ce4a1",
            "value": 1204
          }
        },
        "f187db3c12684399b0dc4286a2f8ab18": {
          "model_module": "@jupyter-widgets/controls",
          "model_name": "HTMLModel",
          "model_module_version": "1.5.0",
          "state": {
            "_dom_classes": [],
            "_model_module": "@jupyter-widgets/controls",
            "_model_module_version": "1.5.0",
            "_model_name": "HTMLModel",
            "_view_count": null,
            "_view_module": "@jupyter-widgets/controls",
            "_view_module_version": "1.5.0",
            "_view_name": "HTMLView",
            "description": "",
            "description_tooltip": null,
            "layout": "IPY_MODEL_85a35773c15f4f32bdeaf10be8ec4451",
            "placeholder": "​",
            "style": "IPY_MODEL_e7d9ccb097964268945654ccfc475124",
            "value": " 1204/1204 [00:01&lt;00:00, 913.20 examples/s]"
          }
        },
        "616b6fe239c8435090248e6b9af3248a": {
          "model_module": "@jupyter-widgets/base",
          "model_name": "LayoutModel",
          "model_module_version": "1.2.0",
          "state": {
            "_model_module": "@jupyter-widgets/base",
            "_model_module_version": "1.2.0",
            "_model_name": "LayoutModel",
            "_view_count": null,
            "_view_module": "@jupyter-widgets/base",
            "_view_module_version": "1.2.0",
            "_view_name": "LayoutView",
            "align_content": null,
            "align_items": null,
            "align_self": null,
            "border": null,
            "bottom": null,
            "display": null,
            "flex": null,
            "flex_flow": null,
            "grid_area": null,
            "grid_auto_columns": null,
            "grid_auto_flow": null,
            "grid_auto_rows": null,
            "grid_column": null,
            "grid_gap": null,
            "grid_row": null,
            "grid_template_areas": null,
            "grid_template_columns": null,
            "grid_template_rows": null,
            "height": null,
            "justify_content": null,
            "justify_items": null,
            "left": null,
            "margin": null,
            "max_height": null,
            "max_width": null,
            "min_height": null,
            "min_width": null,
            "object_fit": null,
            "object_position": null,
            "order": null,
            "overflow": null,
            "overflow_x": null,
            "overflow_y": null,
            "padding": null,
            "right": null,
            "top": null,
            "visibility": "hidden",
            "width": null
          }
        },
        "4bb9a06cc915421e974047ece997dd30": {
          "model_module": "@jupyter-widgets/base",
          "model_name": "LayoutModel",
          "model_module_version": "1.2.0",
          "state": {
            "_model_module": "@jupyter-widgets/base",
            "_model_module_version": "1.2.0",
            "_model_name": "LayoutModel",
            "_view_count": null,
            "_view_module": "@jupyter-widgets/base",
            "_view_module_version": "1.2.0",
            "_view_name": "LayoutView",
            "align_content": null,
            "align_items": null,
            "align_self": null,
            "border": null,
            "bottom": null,
            "display": null,
            "flex": null,
            "flex_flow": null,
            "grid_area": null,
            "grid_auto_columns": null,
            "grid_auto_flow": null,
            "grid_auto_rows": null,
            "grid_column": null,
            "grid_gap": null,
            "grid_row": null,
            "grid_template_areas": null,
            "grid_template_columns": null,
            "grid_template_rows": null,
            "height": null,
            "justify_content": null,
            "justify_items": null,
            "left": null,
            "margin": null,
            "max_height": null,
            "max_width": null,
            "min_height": null,
            "min_width": null,
            "object_fit": null,
            "object_position": null,
            "order": null,
            "overflow": null,
            "overflow_x": null,
            "overflow_y": null,
            "padding": null,
            "right": null,
            "top": null,
            "visibility": null,
            "width": null
          }
        },
        "6246af45202f40bdb7c0ce4a6cfe4ecb": {
          "model_module": "@jupyter-widgets/controls",
          "model_name": "DescriptionStyleModel",
          "model_module_version": "1.5.0",
          "state": {
            "_model_module": "@jupyter-widgets/controls",
            "_model_module_version": "1.5.0",
            "_model_name": "DescriptionStyleModel",
            "_view_count": null,
            "_view_module": "@jupyter-widgets/base",
            "_view_module_version": "1.2.0",
            "_view_name": "StyleView",
            "description_width": ""
          }
        },
        "f3f6d06b51664869b8e62c642a37d399": {
          "model_module": "@jupyter-widgets/base",
          "model_name": "LayoutModel",
          "model_module_version": "1.2.0",
          "state": {
            "_model_module": "@jupyter-widgets/base",
            "_model_module_version": "1.2.0",
            "_model_name": "LayoutModel",
            "_view_count": null,
            "_view_module": "@jupyter-widgets/base",
            "_view_module_version": "1.2.0",
            "_view_name": "LayoutView",
            "align_content": null,
            "align_items": null,
            "align_self": null,
            "border": null,
            "bottom": null,
            "display": null,
            "flex": null,
            "flex_flow": null,
            "grid_area": null,
            "grid_auto_columns": null,
            "grid_auto_flow": null,
            "grid_auto_rows": null,
            "grid_column": null,
            "grid_gap": null,
            "grid_row": null,
            "grid_template_areas": null,
            "grid_template_columns": null,
            "grid_template_rows": null,
            "height": null,
            "justify_content": null,
            "justify_items": null,
            "left": null,
            "margin": null,
            "max_height": null,
            "max_width": null,
            "min_height": null,
            "min_width": null,
            "object_fit": null,
            "object_position": null,
            "order": null,
            "overflow": null,
            "overflow_x": null,
            "overflow_y": null,
            "padding": null,
            "right": null,
            "top": null,
            "visibility": null,
            "width": null
          }
        },
        "1d88da5a7036442ab0d2c9bd740ce4a1": {
          "model_module": "@jupyter-widgets/controls",
          "model_name": "ProgressStyleModel",
          "model_module_version": "1.5.0",
          "state": {
            "_model_module": "@jupyter-widgets/controls",
            "_model_module_version": "1.5.0",
            "_model_name": "ProgressStyleModel",
            "_view_count": null,
            "_view_module": "@jupyter-widgets/base",
            "_view_module_version": "1.2.0",
            "_view_name": "StyleView",
            "bar_color": null,
            "description_width": ""
          }
        },
        "85a35773c15f4f32bdeaf10be8ec4451": {
          "model_module": "@jupyter-widgets/base",
          "model_name": "LayoutModel",
          "model_module_version": "1.2.0",
          "state": {
            "_model_module": "@jupyter-widgets/base",
            "_model_module_version": "1.2.0",
            "_model_name": "LayoutModel",
            "_view_count": null,
            "_view_module": "@jupyter-widgets/base",
            "_view_module_version": "1.2.0",
            "_view_name": "LayoutView",
            "align_content": null,
            "align_items": null,
            "align_self": null,
            "border": null,
            "bottom": null,
            "display": null,
            "flex": null,
            "flex_flow": null,
            "grid_area": null,
            "grid_auto_columns": null,
            "grid_auto_flow": null,
            "grid_auto_rows": null,
            "grid_column": null,
            "grid_gap": null,
            "grid_row": null,
            "grid_template_areas": null,
            "grid_template_columns": null,
            "grid_template_rows": null,
            "height": null,
            "justify_content": null,
            "justify_items": null,
            "left": null,
            "margin": null,
            "max_height": null,
            "max_width": null,
            "min_height": null,
            "min_width": null,
            "object_fit": null,
            "object_position": null,
            "order": null,
            "overflow": null,
            "overflow_x": null,
            "overflow_y": null,
            "padding": null,
            "right": null,
            "top": null,
            "visibility": null,
            "width": null
          }
        },
        "e7d9ccb097964268945654ccfc475124": {
          "model_module": "@jupyter-widgets/controls",
          "model_name": "DescriptionStyleModel",
          "model_module_version": "1.5.0",
          "state": {
            "_model_module": "@jupyter-widgets/controls",
            "_model_module_version": "1.5.0",
            "_model_name": "DescriptionStyleModel",
            "_view_count": null,
            "_view_module": "@jupyter-widgets/base",
            "_view_module_version": "1.2.0",
            "_view_name": "StyleView",
            "description_width": ""
          }
        },
        "0da6ff3d9fce4260895c5a17a36b4f4d": {
          "model_module": "@jupyter-widgets/controls",
          "model_name": "HBoxModel",
          "model_module_version": "1.5.0",
          "state": {
            "_dom_classes": [],
            "_model_module": "@jupyter-widgets/controls",
            "_model_module_version": "1.5.0",
            "_model_name": "HBoxModel",
            "_view_count": null,
            "_view_module": "@jupyter-widgets/controls",
            "_view_module_version": "1.5.0",
            "_view_name": "HBoxView",
            "box_style": "",
            "children": [
              "IPY_MODEL_697cfcb580514e65a0caff4079b88297",
              "IPY_MODEL_9e614ea5f37d4b488d533948118175cf",
              "IPY_MODEL_e2e37664f1414ada8f9b62bbbc64bab5"
            ],
            "layout": "IPY_MODEL_0e8c24636a984507aba935b41057b4bc"
          }
        },
        "697cfcb580514e65a0caff4079b88297": {
          "model_module": "@jupyter-widgets/controls",
          "model_name": "HTMLModel",
          "model_module_version": "1.5.0",
          "state": {
            "_dom_classes": [],
            "_model_module": "@jupyter-widgets/controls",
            "_model_module_version": "1.5.0",
            "_model_name": "HTMLModel",
            "_view_count": null,
            "_view_module": "@jupyter-widgets/controls",
            "_view_module_version": "1.5.0",
            "_view_name": "HTMLView",
            "description": "",
            "description_tooltip": null,
            "layout": "IPY_MODEL_b3f49935f5cd4ca7b078844256003428",
            "placeholder": "​",
            "style": "IPY_MODEL_16f1730cef1c4afbb8bf12ade96abf50",
            "value": "Upload file training_args.bin: 100%"
          }
        },
        "9e614ea5f37d4b488d533948118175cf": {
          "model_module": "@jupyter-widgets/controls",
          "model_name": "FloatProgressModel",
          "model_module_version": "1.5.0",
          "state": {
            "_dom_classes": [],
            "_model_module": "@jupyter-widgets/controls",
            "_model_module_version": "1.5.0",
            "_model_name": "FloatProgressModel",
            "_view_count": null,
            "_view_module": "@jupyter-widgets/controls",
            "_view_module_version": "1.5.0",
            "_view_name": "ProgressView",
            "bar_style": "success",
            "description": "",
            "description_tooltip": null,
            "layout": "IPY_MODEL_cd3272267cc9479db96293c04f988f37",
            "max": 3707,
            "min": 0,
            "orientation": "horizontal",
            "style": "IPY_MODEL_0935f499c92847a58e8ad71783e788a1",
            "value": 3707
          }
        },
        "e2e37664f1414ada8f9b62bbbc64bab5": {
          "model_module": "@jupyter-widgets/controls",
          "model_name": "HTMLModel",
          "model_module_version": "1.5.0",
          "state": {
            "_dom_classes": [],
            "_model_module": "@jupyter-widgets/controls",
            "_model_module_version": "1.5.0",
            "_model_name": "HTMLModel",
            "_view_count": null,
            "_view_module": "@jupyter-widgets/controls",
            "_view_module_version": "1.5.0",
            "_view_name": "HTMLView",
            "description": "",
            "description_tooltip": null,
            "layout": "IPY_MODEL_d735b161f816402f8adc7d29708eaa0b",
            "placeholder": "​",
            "style": "IPY_MODEL_c12c3486befd483db9701109d5bb21c8",
            "value": " 3.62k/3.62k [00:01&lt;?, ?B/s]"
          }
        },
        "0e8c24636a984507aba935b41057b4bc": {
          "model_module": "@jupyter-widgets/base",
          "model_name": "LayoutModel",
          "model_module_version": "1.2.0",
          "state": {
            "_model_module": "@jupyter-widgets/base",
            "_model_module_version": "1.2.0",
            "_model_name": "LayoutModel",
            "_view_count": null,
            "_view_module": "@jupyter-widgets/base",
            "_view_module_version": "1.2.0",
            "_view_name": "LayoutView",
            "align_content": null,
            "align_items": null,
            "align_self": null,
            "border": null,
            "bottom": null,
            "display": null,
            "flex": null,
            "flex_flow": null,
            "grid_area": null,
            "grid_auto_columns": null,
            "grid_auto_flow": null,
            "grid_auto_rows": null,
            "grid_column": null,
            "grid_gap": null,
            "grid_row": null,
            "grid_template_areas": null,
            "grid_template_columns": null,
            "grid_template_rows": null,
            "height": null,
            "justify_content": null,
            "justify_items": null,
            "left": null,
            "margin": null,
            "max_height": null,
            "max_width": null,
            "min_height": null,
            "min_width": null,
            "object_fit": null,
            "object_position": null,
            "order": null,
            "overflow": null,
            "overflow_x": null,
            "overflow_y": null,
            "padding": null,
            "right": null,
            "top": null,
            "visibility": null,
            "width": null
          }
        },
        "b3f49935f5cd4ca7b078844256003428": {
          "model_module": "@jupyter-widgets/base",
          "model_name": "LayoutModel",
          "model_module_version": "1.2.0",
          "state": {
            "_model_module": "@jupyter-widgets/base",
            "_model_module_version": "1.2.0",
            "_model_name": "LayoutModel",
            "_view_count": null,
            "_view_module": "@jupyter-widgets/base",
            "_view_module_version": "1.2.0",
            "_view_name": "LayoutView",
            "align_content": null,
            "align_items": null,
            "align_self": null,
            "border": null,
            "bottom": null,
            "display": null,
            "flex": null,
            "flex_flow": null,
            "grid_area": null,
            "grid_auto_columns": null,
            "grid_auto_flow": null,
            "grid_auto_rows": null,
            "grid_column": null,
            "grid_gap": null,
            "grid_row": null,
            "grid_template_areas": null,
            "grid_template_columns": null,
            "grid_template_rows": null,
            "height": null,
            "justify_content": null,
            "justify_items": null,
            "left": null,
            "margin": null,
            "max_height": null,
            "max_width": null,
            "min_height": null,
            "min_width": null,
            "object_fit": null,
            "object_position": null,
            "order": null,
            "overflow": null,
            "overflow_x": null,
            "overflow_y": null,
            "padding": null,
            "right": null,
            "top": null,
            "visibility": null,
            "width": null
          }
        },
        "16f1730cef1c4afbb8bf12ade96abf50": {
          "model_module": "@jupyter-widgets/controls",
          "model_name": "DescriptionStyleModel",
          "model_module_version": "1.5.0",
          "state": {
            "_model_module": "@jupyter-widgets/controls",
            "_model_module_version": "1.5.0",
            "_model_name": "DescriptionStyleModel",
            "_view_count": null,
            "_view_module": "@jupyter-widgets/base",
            "_view_module_version": "1.2.0",
            "_view_name": "StyleView",
            "description_width": ""
          }
        },
        "cd3272267cc9479db96293c04f988f37": {
          "model_module": "@jupyter-widgets/base",
          "model_name": "LayoutModel",
          "model_module_version": "1.2.0",
          "state": {
            "_model_module": "@jupyter-widgets/base",
            "_model_module_version": "1.2.0",
            "_model_name": "LayoutModel",
            "_view_count": null,
            "_view_module": "@jupyter-widgets/base",
            "_view_module_version": "1.2.0",
            "_view_name": "LayoutView",
            "align_content": null,
            "align_items": null,
            "align_self": null,
            "border": null,
            "bottom": null,
            "display": null,
            "flex": null,
            "flex_flow": null,
            "grid_area": null,
            "grid_auto_columns": null,
            "grid_auto_flow": null,
            "grid_auto_rows": null,
            "grid_column": null,
            "grid_gap": null,
            "grid_row": null,
            "grid_template_areas": null,
            "grid_template_columns": null,
            "grid_template_rows": null,
            "height": null,
            "justify_content": null,
            "justify_items": null,
            "left": null,
            "margin": null,
            "max_height": null,
            "max_width": null,
            "min_height": null,
            "min_width": null,
            "object_fit": null,
            "object_position": null,
            "order": null,
            "overflow": null,
            "overflow_x": null,
            "overflow_y": null,
            "padding": null,
            "right": null,
            "top": null,
            "visibility": null,
            "width": null
          }
        },
        "0935f499c92847a58e8ad71783e788a1": {
          "model_module": "@jupyter-widgets/controls",
          "model_name": "ProgressStyleModel",
          "model_module_version": "1.5.0",
          "state": {
            "_model_module": "@jupyter-widgets/controls",
            "_model_module_version": "1.5.0",
            "_model_name": "ProgressStyleModel",
            "_view_count": null,
            "_view_module": "@jupyter-widgets/base",
            "_view_module_version": "1.2.0",
            "_view_name": "StyleView",
            "bar_color": null,
            "description_width": ""
          }
        },
        "d735b161f816402f8adc7d29708eaa0b": {
          "model_module": "@jupyter-widgets/base",
          "model_name": "LayoutModel",
          "model_module_version": "1.2.0",
          "state": {
            "_model_module": "@jupyter-widgets/base",
            "_model_module_version": "1.2.0",
            "_model_name": "LayoutModel",
            "_view_count": null,
            "_view_module": "@jupyter-widgets/base",
            "_view_module_version": "1.2.0",
            "_view_name": "LayoutView",
            "align_content": null,
            "align_items": null,
            "align_self": null,
            "border": null,
            "bottom": null,
            "display": null,
            "flex": null,
            "flex_flow": null,
            "grid_area": null,
            "grid_auto_columns": null,
            "grid_auto_flow": null,
            "grid_auto_rows": null,
            "grid_column": null,
            "grid_gap": null,
            "grid_row": null,
            "grid_template_areas": null,
            "grid_template_columns": null,
            "grid_template_rows": null,
            "height": null,
            "justify_content": null,
            "justify_items": null,
            "left": null,
            "margin": null,
            "max_height": null,
            "max_width": null,
            "min_height": null,
            "min_width": null,
            "object_fit": null,
            "object_position": null,
            "order": null,
            "overflow": null,
            "overflow_x": null,
            "overflow_y": null,
            "padding": null,
            "right": null,
            "top": null,
            "visibility": null,
            "width": null
          }
        },
        "c12c3486befd483db9701109d5bb21c8": {
          "model_module": "@jupyter-widgets/controls",
          "model_name": "DescriptionStyleModel",
          "model_module_version": "1.5.0",
          "state": {
            "_model_module": "@jupyter-widgets/controls",
            "_model_module_version": "1.5.0",
            "_model_name": "DescriptionStyleModel",
            "_view_count": null,
            "_view_module": "@jupyter-widgets/base",
            "_view_module_version": "1.2.0",
            "_view_name": "StyleView",
            "description_width": ""
          }
        },
        "70d297b8a31a4fe9b4377b2a76bd17e6": {
          "model_module": "@jupyter-widgets/controls",
          "model_name": "VBoxModel",
          "model_module_version": "1.5.0",
          "state": {
            "_dom_classes": [],
            "_model_module": "@jupyter-widgets/controls",
            "_model_module_version": "1.5.0",
            "_model_name": "VBoxModel",
            "_view_count": null,
            "_view_module": "@jupyter-widgets/controls",
            "_view_module_version": "1.5.0",
            "_view_name": "VBoxView",
            "box_style": "",
            "children": [
              "IPY_MODEL_ab7c47c3a7da40e8bf7d859126d88552",
              "IPY_MODEL_4592b6b2806544bd99929c345d4eb374"
            ],
            "layout": "IPY_MODEL_af3f6e3b087645049f22f856f9b522ee"
          }
        },
        "ab7c47c3a7da40e8bf7d859126d88552": {
          "model_module": "@jupyter-widgets/controls",
          "model_name": "LabelModel",
          "model_module_version": "1.5.0",
          "state": {
            "_dom_classes": [],
            "_model_module": "@jupyter-widgets/controls",
            "_model_module_version": "1.5.0",
            "_model_name": "LabelModel",
            "_view_count": null,
            "_view_module": "@jupyter-widgets/controls",
            "_view_module_version": "1.5.0",
            "_view_name": "LabelView",
            "description": "",
            "description_tooltip": null,
            "layout": "IPY_MODEL_8bf58cb2140249aab7e486b55de278f1",
            "placeholder": "​",
            "style": "IPY_MODEL_85bb5a9fb5974437851823ff629b5fce",
            "value": "0.001 MB of 0.018 MB uploaded (0.000 MB deduped)\r"
          }
        },
        "4592b6b2806544bd99929c345d4eb374": {
          "model_module": "@jupyter-widgets/controls",
          "model_name": "FloatProgressModel",
          "model_module_version": "1.5.0",
          "state": {
            "_dom_classes": [],
            "_model_module": "@jupyter-widgets/controls",
            "_model_module_version": "1.5.0",
            "_model_name": "FloatProgressModel",
            "_view_count": null,
            "_view_module": "@jupyter-widgets/controls",
            "_view_module_version": "1.5.0",
            "_view_name": "ProgressView",
            "bar_style": "",
            "description": "",
            "description_tooltip": null,
            "layout": "IPY_MODEL_97e48ae9d20f40eebd80beba683ab7ef",
            "max": 1,
            "min": 0,
            "orientation": "horizontal",
            "style": "IPY_MODEL_2e50d9330e904d74a4466e720356e382",
            "value": 0.04623853211009174
          }
        },
        "af3f6e3b087645049f22f856f9b522ee": {
          "model_module": "@jupyter-widgets/base",
          "model_name": "LayoutModel",
          "model_module_version": "1.2.0",
          "state": {
            "_model_module": "@jupyter-widgets/base",
            "_model_module_version": "1.2.0",
            "_model_name": "LayoutModel",
            "_view_count": null,
            "_view_module": "@jupyter-widgets/base",
            "_view_module_version": "1.2.0",
            "_view_name": "LayoutView",
            "align_content": null,
            "align_items": null,
            "align_self": null,
            "border": null,
            "bottom": null,
            "display": null,
            "flex": null,
            "flex_flow": null,
            "grid_area": null,
            "grid_auto_columns": null,
            "grid_auto_flow": null,
            "grid_auto_rows": null,
            "grid_column": null,
            "grid_gap": null,
            "grid_row": null,
            "grid_template_areas": null,
            "grid_template_columns": null,
            "grid_template_rows": null,
            "height": null,
            "justify_content": null,
            "justify_items": null,
            "left": null,
            "margin": null,
            "max_height": null,
            "max_width": null,
            "min_height": null,
            "min_width": null,
            "object_fit": null,
            "object_position": null,
            "order": null,
            "overflow": null,
            "overflow_x": null,
            "overflow_y": null,
            "padding": null,
            "right": null,
            "top": null,
            "visibility": null,
            "width": null
          }
        },
        "8bf58cb2140249aab7e486b55de278f1": {
          "model_module": "@jupyter-widgets/base",
          "model_name": "LayoutModel",
          "model_module_version": "1.2.0",
          "state": {
            "_model_module": "@jupyter-widgets/base",
            "_model_module_version": "1.2.0",
            "_model_name": "LayoutModel",
            "_view_count": null,
            "_view_module": "@jupyter-widgets/base",
            "_view_module_version": "1.2.0",
            "_view_name": "LayoutView",
            "align_content": null,
            "align_items": null,
            "align_self": null,
            "border": null,
            "bottom": null,
            "display": null,
            "flex": null,
            "flex_flow": null,
            "grid_area": null,
            "grid_auto_columns": null,
            "grid_auto_flow": null,
            "grid_auto_rows": null,
            "grid_column": null,
            "grid_gap": null,
            "grid_row": null,
            "grid_template_areas": null,
            "grid_template_columns": null,
            "grid_template_rows": null,
            "height": null,
            "justify_content": null,
            "justify_items": null,
            "left": null,
            "margin": null,
            "max_height": null,
            "max_width": null,
            "min_height": null,
            "min_width": null,
            "object_fit": null,
            "object_position": null,
            "order": null,
            "overflow": null,
            "overflow_x": null,
            "overflow_y": null,
            "padding": null,
            "right": null,
            "top": null,
            "visibility": null,
            "width": null
          }
        },
        "85bb5a9fb5974437851823ff629b5fce": {
          "model_module": "@jupyter-widgets/controls",
          "model_name": "DescriptionStyleModel",
          "model_module_version": "1.5.0",
          "state": {
            "_model_module": "@jupyter-widgets/controls",
            "_model_module_version": "1.5.0",
            "_model_name": "DescriptionStyleModel",
            "_view_count": null,
            "_view_module": "@jupyter-widgets/base",
            "_view_module_version": "1.2.0",
            "_view_name": "StyleView",
            "description_width": ""
          }
        },
        "97e48ae9d20f40eebd80beba683ab7ef": {
          "model_module": "@jupyter-widgets/base",
          "model_name": "LayoutModel",
          "model_module_version": "1.2.0",
          "state": {
            "_model_module": "@jupyter-widgets/base",
            "_model_module_version": "1.2.0",
            "_model_name": "LayoutModel",
            "_view_count": null,
            "_view_module": "@jupyter-widgets/base",
            "_view_module_version": "1.2.0",
            "_view_name": "LayoutView",
            "align_content": null,
            "align_items": null,
            "align_self": null,
            "border": null,
            "bottom": null,
            "display": null,
            "flex": null,
            "flex_flow": null,
            "grid_area": null,
            "grid_auto_columns": null,
            "grid_auto_flow": null,
            "grid_auto_rows": null,
            "grid_column": null,
            "grid_gap": null,
            "grid_row": null,
            "grid_template_areas": null,
            "grid_template_columns": null,
            "grid_template_rows": null,
            "height": null,
            "justify_content": null,
            "justify_items": null,
            "left": null,
            "margin": null,
            "max_height": null,
            "max_width": null,
            "min_height": null,
            "min_width": null,
            "object_fit": null,
            "object_position": null,
            "order": null,
            "overflow": null,
            "overflow_x": null,
            "overflow_y": null,
            "padding": null,
            "right": null,
            "top": null,
            "visibility": null,
            "width": null
          }
        },
        "2e50d9330e904d74a4466e720356e382": {
          "model_module": "@jupyter-widgets/controls",
          "model_name": "ProgressStyleModel",
          "model_module_version": "1.5.0",
          "state": {
            "_model_module": "@jupyter-widgets/controls",
            "_model_module_version": "1.5.0",
            "_model_name": "ProgressStyleModel",
            "_view_count": null,
            "_view_module": "@jupyter-widgets/base",
            "_view_module_version": "1.2.0",
            "_view_name": "StyleView",
            "bar_color": null,
            "description_width": ""
          }
        }
      }
    },
    "gpuClass": "standard"
  },
  "nbformat": 4,
  "nbformat_minor": 0
}